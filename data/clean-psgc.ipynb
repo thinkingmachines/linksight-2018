{
 "cells": [
  {
   "cell_type": "markdown",
   "metadata": {},
   "source": [
    "# Cleaning the PSGC Dataset"
   ]
  },
  {
   "cell_type": "code",
   "execution_count": 1,
   "metadata": {
    "ExecuteTime": {
     "end_time": "2018-09-18T01:04:22.975157",
     "start_time": "2018-09-18T01:04:21.775491"
    },
    "collapsed": true,
    "scrolled": false
   },
   "outputs": [],
   "source": [
    "import pandas as pd\n",
    "import re"
   ]
  },
  {
   "cell_type": "code",
   "execution_count": 2,
   "metadata": {
    "ExecuteTime": {
     "end_time": "2018-09-18T01:04:23.077517",
     "start_time": "2018-09-18T01:04:22.977131"
    },
    "collapsed": true,
    "scrolled": false
   },
   "outputs": [],
   "source": [
    "psgc = pd.read_csv('psgc.csv.gz', dtype={'Code': str})"
   ]
  },
  {
   "cell_type": "code",
   "execution_count": 3,
   "metadata": {
    "ExecuteTime": {
     "end_time": "2018-09-18T01:04:23.109667",
     "start_time": "2018-09-18T01:04:23.079103"
    },
    "collapsed": false,
    "scrolled": false
   },
   "outputs": [
    {
     "name": "stdout",
     "output_type": "stream",
     "text": [
      "<class 'pandas.core.frame.DataFrame'>\n",
      "RangeIndex: 43796 entries, 0 to 43795\n",
      "Data columns (total 8 columns):\n",
      "Code                                 43796 non-null object\n",
      "Name                                 43796 non-null object\n",
      "Inter-Level                          43794 non-null object\n",
      "City Class                           145 non-null object\n",
      "Income\n",
      "Classification                1715 non-null object\n",
      "Urban / Rural (based on 2010 CPH)    42046 non-null object\n",
      "POPULATION\n",
      "(2015 POPCEN)             43794 non-null object\n",
      "Unnamed: 7                           7 non-null object\n",
      "dtypes: object(8)\n",
      "memory usage: 2.7+ MB\n"
     ]
    }
   ],
   "source": [
    "psgc.info()"
   ]
  },
  {
   "cell_type": "markdown",
   "metadata": {},
   "source": [
    "Drop unused columns:"
   ]
  },
  {
   "cell_type": "code",
   "execution_count": 6,
   "metadata": {
    "ExecuteTime": {
     "end_time": "2018-09-18T01:05:21.361518",
     "start_time": "2018-09-18T01:05:21.353316"
    },
    "collapsed": false,
    "scrolled": false
   },
   "outputs": [],
   "source": [
    "#psgc = psgc.drop(columns=['City Class', 'Income\\nClassification', 'Urban / Rural (based on 2010 CPH)', 'POPULATION\\n(2015 POPCEN)', 'Unnamed: 7'])\n",
    "psgc = psgc.loc[:,['Code','Name','Inter-Level']]"
   ]
  },
  {
   "cell_type": "code",
   "execution_count": 7,
   "metadata": {
    "ExecuteTime": {
     "end_time": "2018-09-18T01:05:22.091001",
     "start_time": "2018-09-18T01:05:22.042062"
    },
    "collapsed": true,
    "scrolled": false
   },
   "outputs": [],
   "source": [
    "psgc['code'] = psgc.pop('Code')\n",
    "psgc['location'] = psgc.pop('Name').str.strip()\n",
    "psgc['interlevel'] = psgc.pop('Inter-Level').str.strip()"
   ]
  },
  {
   "cell_type": "code",
   "execution_count": 8,
   "metadata": {
    "ExecuteTime": {
     "end_time": "2018-09-18T01:05:23.990148",
     "start_time": "2018-09-18T01:05:23.971563"
    },
    "collapsed": false,
    "scrolled": false
   },
   "outputs": [
    {
     "data": {
      "text/plain": [
       "Bgy       42044\n",
       "Mun        1489\n",
       "City        145\n",
       "Prov         81\n",
       "Reg          17\n",
       "SubMun       14\n",
       "Dist          4\n",
       "Name: interlevel, dtype: int64"
      ]
     },
     "execution_count": 8,
     "metadata": {},
     "output_type": "execute_result"
    }
   ],
   "source": [
    "psgc['interlevel'].value_counts()"
   ]
  },
  {
   "cell_type": "code",
   "execution_count": 9,
   "metadata": {
    "ExecuteTime": {
     "end_time": "2018-09-18T01:05:24.593523",
     "start_time": "2018-09-18T01:05:24.534023"
    },
    "collapsed": false,
    "scrolled": false
   },
   "outputs": [
    {
     "data": {
      "text/html": [
       "<div>\n",
       "<table border=\"1\" class=\"dataframe\">\n",
       "  <thead>\n",
       "    <tr style=\"text-align: right;\">\n",
       "      <th></th>\n",
       "      <th>code</th>\n",
       "      <th>location</th>\n",
       "      <th>interlevel</th>\n",
       "    </tr>\n",
       "  </thead>\n",
       "  <tbody>\n",
       "    <tr>\n",
       "      <th>0</th>\n",
       "      <td>010000000</td>\n",
       "      <td>REGION I (ILOCOS REGION)</td>\n",
       "      <td>Reg</td>\n",
       "    </tr>\n",
       "    <tr>\n",
       "      <th>1</th>\n",
       "      <td>012800000</td>\n",
       "      <td>ILOCOS NORTE</td>\n",
       "      <td>Prov</td>\n",
       "    </tr>\n",
       "    <tr>\n",
       "      <th>2</th>\n",
       "      <td>012801000</td>\n",
       "      <td>ADAMS</td>\n",
       "      <td>Mun</td>\n",
       "    </tr>\n",
       "    <tr>\n",
       "      <th>3</th>\n",
       "      <td>012801001</td>\n",
       "      <td>Adams (Pob.)</td>\n",
       "      <td>Bgy</td>\n",
       "    </tr>\n",
       "    <tr>\n",
       "      <th>4</th>\n",
       "      <td>012802000</td>\n",
       "      <td>BACARRA</td>\n",
       "      <td>Mun</td>\n",
       "    </tr>\n",
       "    <tr>\n",
       "      <th>5</th>\n",
       "      <td>012802001</td>\n",
       "      <td>Bani</td>\n",
       "      <td>Bgy</td>\n",
       "    </tr>\n",
       "    <tr>\n",
       "      <th>6</th>\n",
       "      <td>012802002</td>\n",
       "      <td>Buyon</td>\n",
       "      <td>Bgy</td>\n",
       "    </tr>\n",
       "    <tr>\n",
       "      <th>7</th>\n",
       "      <td>012802003</td>\n",
       "      <td>Cabaruan</td>\n",
       "      <td>Bgy</td>\n",
       "    </tr>\n",
       "    <tr>\n",
       "      <th>8</th>\n",
       "      <td>012802004</td>\n",
       "      <td>Cabulalaan</td>\n",
       "      <td>Bgy</td>\n",
       "    </tr>\n",
       "    <tr>\n",
       "      <th>9</th>\n",
       "      <td>012802005</td>\n",
       "      <td>Cabusligan</td>\n",
       "      <td>Bgy</td>\n",
       "    </tr>\n",
       "    <tr>\n",
       "      <th>10</th>\n",
       "      <td>012802006</td>\n",
       "      <td>Cadaratan</td>\n",
       "      <td>Bgy</td>\n",
       "    </tr>\n",
       "    <tr>\n",
       "      <th>11</th>\n",
       "      <td>012802007</td>\n",
       "      <td>Calioet-Libong</td>\n",
       "      <td>Bgy</td>\n",
       "    </tr>\n",
       "    <tr>\n",
       "      <th>12</th>\n",
       "      <td>012802008</td>\n",
       "      <td>Casilian</td>\n",
       "      <td>Bgy</td>\n",
       "    </tr>\n",
       "    <tr>\n",
       "      <th>13</th>\n",
       "      <td>012802009</td>\n",
       "      <td>Corocor</td>\n",
       "      <td>Bgy</td>\n",
       "    </tr>\n",
       "    <tr>\n",
       "      <th>14</th>\n",
       "      <td>012802011</td>\n",
       "      <td>Duripes</td>\n",
       "      <td>Bgy</td>\n",
       "    </tr>\n",
       "    <tr>\n",
       "      <th>15</th>\n",
       "      <td>012802012</td>\n",
       "      <td>Ganagan</td>\n",
       "      <td>Bgy</td>\n",
       "    </tr>\n",
       "    <tr>\n",
       "      <th>16</th>\n",
       "      <td>012802013</td>\n",
       "      <td>Libtong</td>\n",
       "      <td>Bgy</td>\n",
       "    </tr>\n",
       "    <tr>\n",
       "      <th>17</th>\n",
       "      <td>012802014</td>\n",
       "      <td>Macupit</td>\n",
       "      <td>Bgy</td>\n",
       "    </tr>\n",
       "    <tr>\n",
       "      <th>18</th>\n",
       "      <td>012802015</td>\n",
       "      <td>Nambaran</td>\n",
       "      <td>Bgy</td>\n",
       "    </tr>\n",
       "    <tr>\n",
       "      <th>19</th>\n",
       "      <td>012802016</td>\n",
       "      <td>Natba</td>\n",
       "      <td>Bgy</td>\n",
       "    </tr>\n",
       "    <tr>\n",
       "      <th>20</th>\n",
       "      <td>012802017</td>\n",
       "      <td>Paninaan</td>\n",
       "      <td>Bgy</td>\n",
       "    </tr>\n",
       "    <tr>\n",
       "      <th>21</th>\n",
       "      <td>012802018</td>\n",
       "      <td>Pasiocan</td>\n",
       "      <td>Bgy</td>\n",
       "    </tr>\n",
       "    <tr>\n",
       "      <th>22</th>\n",
       "      <td>012802019</td>\n",
       "      <td>Pasngal</td>\n",
       "      <td>Bgy</td>\n",
       "    </tr>\n",
       "    <tr>\n",
       "      <th>23</th>\n",
       "      <td>012802020</td>\n",
       "      <td>Pipias</td>\n",
       "      <td>Bgy</td>\n",
       "    </tr>\n",
       "    <tr>\n",
       "      <th>24</th>\n",
       "      <td>012802021</td>\n",
       "      <td>Pulangi</td>\n",
       "      <td>Bgy</td>\n",
       "    </tr>\n",
       "    <tr>\n",
       "      <th>25</th>\n",
       "      <td>012802022</td>\n",
       "      <td>Pungto</td>\n",
       "      <td>Bgy</td>\n",
       "    </tr>\n",
       "    <tr>\n",
       "      <th>26</th>\n",
       "      <td>012802024</td>\n",
       "      <td>San Agustin I (Pob.)</td>\n",
       "      <td>Bgy</td>\n",
       "    </tr>\n",
       "    <tr>\n",
       "      <th>27</th>\n",
       "      <td>012802025</td>\n",
       "      <td>San Agustin II (Pob.)</td>\n",
       "      <td>Bgy</td>\n",
       "    </tr>\n",
       "    <tr>\n",
       "      <th>28</th>\n",
       "      <td>012802027</td>\n",
       "      <td>San Andres I (Pob.)</td>\n",
       "      <td>Bgy</td>\n",
       "    </tr>\n",
       "    <tr>\n",
       "      <th>29</th>\n",
       "      <td>012802028</td>\n",
       "      <td>San Andres II (Pob.)</td>\n",
       "      <td>Bgy</td>\n",
       "    </tr>\n",
       "    <tr>\n",
       "      <th>...</th>\n",
       "      <td>...</td>\n",
       "      <td>...</td>\n",
       "      <td>...</td>\n",
       "    </tr>\n",
       "    <tr>\n",
       "      <th>43766</th>\n",
       "      <td>168505004</td>\n",
       "      <td>Helene</td>\n",
       "      <td>Bgy</td>\n",
       "    </tr>\n",
       "    <tr>\n",
       "      <th>43767</th>\n",
       "      <td>168505006</td>\n",
       "      <td>Liberty</td>\n",
       "      <td>Bgy</td>\n",
       "    </tr>\n",
       "    <tr>\n",
       "      <th>43768</th>\n",
       "      <td>168505008</td>\n",
       "      <td>Magsaysay</td>\n",
       "      <td>Bgy</td>\n",
       "    </tr>\n",
       "    <tr>\n",
       "      <th>43769</th>\n",
       "      <td>168505011</td>\n",
       "      <td>Panamaon</td>\n",
       "      <td>Bgy</td>\n",
       "    </tr>\n",
       "    <tr>\n",
       "      <th>43770</th>\n",
       "      <td>168505013</td>\n",
       "      <td>San Juan (Pob.)</td>\n",
       "      <td>Bgy</td>\n",
       "    </tr>\n",
       "    <tr>\n",
       "      <th>43771</th>\n",
       "      <td>168505015</td>\n",
       "      <td>Santa Cruz (Pob.)</td>\n",
       "      <td>Bgy</td>\n",
       "    </tr>\n",
       "    <tr>\n",
       "      <th>43772</th>\n",
       "      <td>168505017</td>\n",
       "      <td>Santiago (Pob.)</td>\n",
       "      <td>Bgy</td>\n",
       "    </tr>\n",
       "    <tr>\n",
       "      <th>43773</th>\n",
       "      <td>168506000</td>\n",
       "      <td>SAN JOSE (Capital)</td>\n",
       "      <td>Mun</td>\n",
       "    </tr>\n",
       "    <tr>\n",
       "      <th>43774</th>\n",
       "      <td>168506001</td>\n",
       "      <td>Aurelio</td>\n",
       "      <td>Bgy</td>\n",
       "    </tr>\n",
       "    <tr>\n",
       "      <th>43775</th>\n",
       "      <td>168506002</td>\n",
       "      <td>Cuarinta</td>\n",
       "      <td>Bgy</td>\n",
       "    </tr>\n",
       "    <tr>\n",
       "      <th>43776</th>\n",
       "      <td>168506003</td>\n",
       "      <td>Don Ruben Ecleo (Baltazar)</td>\n",
       "      <td>Bgy</td>\n",
       "    </tr>\n",
       "    <tr>\n",
       "      <th>43777</th>\n",
       "      <td>168506004</td>\n",
       "      <td>Jacquez</td>\n",
       "      <td>Bgy</td>\n",
       "    </tr>\n",
       "    <tr>\n",
       "      <th>43778</th>\n",
       "      <td>168506005</td>\n",
       "      <td>Justiniana Edera</td>\n",
       "      <td>Bgy</td>\n",
       "    </tr>\n",
       "    <tr>\n",
       "      <th>43779</th>\n",
       "      <td>168506006</td>\n",
       "      <td>Luna</td>\n",
       "      <td>Bgy</td>\n",
       "    </tr>\n",
       "    <tr>\n",
       "      <th>43780</th>\n",
       "      <td>168506007</td>\n",
       "      <td>Mahayahay</td>\n",
       "      <td>Bgy</td>\n",
       "    </tr>\n",
       "    <tr>\n",
       "      <th>43781</th>\n",
       "      <td>168506008</td>\n",
       "      <td>Matingbe</td>\n",
       "      <td>Bgy</td>\n",
       "    </tr>\n",
       "    <tr>\n",
       "      <th>43782</th>\n",
       "      <td>168506009</td>\n",
       "      <td>San Jose (Pob.)</td>\n",
       "      <td>Bgy</td>\n",
       "    </tr>\n",
       "    <tr>\n",
       "      <th>43783</th>\n",
       "      <td>168506010</td>\n",
       "      <td>San Juan</td>\n",
       "      <td>Bgy</td>\n",
       "    </tr>\n",
       "    <tr>\n",
       "      <th>43784</th>\n",
       "      <td>168506011</td>\n",
       "      <td>Santa Cruz</td>\n",
       "      <td>Bgy</td>\n",
       "    </tr>\n",
       "    <tr>\n",
       "      <th>43785</th>\n",
       "      <td>168506012</td>\n",
       "      <td>Wilson</td>\n",
       "      <td>Bgy</td>\n",
       "    </tr>\n",
       "    <tr>\n",
       "      <th>43786</th>\n",
       "      <td>168507000</td>\n",
       "      <td>TUBAJON</td>\n",
       "      <td>Mun</td>\n",
       "    </tr>\n",
       "    <tr>\n",
       "      <th>43787</th>\n",
       "      <td>168507001</td>\n",
       "      <td>Imelda</td>\n",
       "      <td>Bgy</td>\n",
       "    </tr>\n",
       "    <tr>\n",
       "      <th>43788</th>\n",
       "      <td>168507002</td>\n",
       "      <td>Mabini</td>\n",
       "      <td>Bgy</td>\n",
       "    </tr>\n",
       "    <tr>\n",
       "      <th>43789</th>\n",
       "      <td>168507003</td>\n",
       "      <td>Malinao</td>\n",
       "      <td>Bgy</td>\n",
       "    </tr>\n",
       "    <tr>\n",
       "      <th>43790</th>\n",
       "      <td>168507004</td>\n",
       "      <td>Navarro</td>\n",
       "      <td>Bgy</td>\n",
       "    </tr>\n",
       "    <tr>\n",
       "      <th>43791</th>\n",
       "      <td>168507005</td>\n",
       "      <td>Diaz (Romualdez)</td>\n",
       "      <td>Bgy</td>\n",
       "    </tr>\n",
       "    <tr>\n",
       "      <th>43792</th>\n",
       "      <td>168507006</td>\n",
       "      <td>Roxas</td>\n",
       "      <td>Bgy</td>\n",
       "    </tr>\n",
       "    <tr>\n",
       "      <th>43793</th>\n",
       "      <td>168507007</td>\n",
       "      <td>San Roque (Pob.)</td>\n",
       "      <td>Bgy</td>\n",
       "    </tr>\n",
       "    <tr>\n",
       "      <th>43794</th>\n",
       "      <td>168507008</td>\n",
       "      <td>San Vicente (Pob.)</td>\n",
       "      <td>Bgy</td>\n",
       "    </tr>\n",
       "    <tr>\n",
       "      <th>43795</th>\n",
       "      <td>168507009</td>\n",
       "      <td>Santa Cruz (Pob.)</td>\n",
       "      <td>Bgy</td>\n",
       "    </tr>\n",
       "  </tbody>\n",
       "</table>\n",
       "<p>43796 rows × 3 columns</p>\n",
       "</div>"
      ],
      "text/plain": [
       "            code                    location interlevel\n",
       "0      010000000    REGION I (ILOCOS REGION)        Reg\n",
       "1      012800000                ILOCOS NORTE       Prov\n",
       "2      012801000                       ADAMS        Mun\n",
       "3      012801001                Adams (Pob.)        Bgy\n",
       "4      012802000                     BACARRA        Mun\n",
       "5      012802001                        Bani        Bgy\n",
       "6      012802002                       Buyon        Bgy\n",
       "7      012802003                    Cabaruan        Bgy\n",
       "8      012802004                  Cabulalaan        Bgy\n",
       "9      012802005                  Cabusligan        Bgy\n",
       "10     012802006                   Cadaratan        Bgy\n",
       "11     012802007              Calioet-Libong        Bgy\n",
       "12     012802008                    Casilian        Bgy\n",
       "13     012802009                     Corocor        Bgy\n",
       "14     012802011                     Duripes        Bgy\n",
       "15     012802012                     Ganagan        Bgy\n",
       "16     012802013                     Libtong        Bgy\n",
       "17     012802014                     Macupit        Bgy\n",
       "18     012802015                    Nambaran        Bgy\n",
       "19     012802016                       Natba        Bgy\n",
       "20     012802017                    Paninaan        Bgy\n",
       "21     012802018                    Pasiocan        Bgy\n",
       "22     012802019                     Pasngal        Bgy\n",
       "23     012802020                      Pipias        Bgy\n",
       "24     012802021                     Pulangi        Bgy\n",
       "25     012802022                      Pungto        Bgy\n",
       "26     012802024        San Agustin I (Pob.)        Bgy\n",
       "27     012802025       San Agustin II (Pob.)        Bgy\n",
       "28     012802027         San Andres I (Pob.)        Bgy\n",
       "29     012802028        San Andres II (Pob.)        Bgy\n",
       "...          ...                         ...        ...\n",
       "43766  168505004                      Helene        Bgy\n",
       "43767  168505006                     Liberty        Bgy\n",
       "43768  168505008                   Magsaysay        Bgy\n",
       "43769  168505011                    Panamaon        Bgy\n",
       "43770  168505013             San Juan (Pob.)        Bgy\n",
       "43771  168505015           Santa Cruz (Pob.)        Bgy\n",
       "43772  168505017             Santiago (Pob.)        Bgy\n",
       "43773  168506000          SAN JOSE (Capital)        Mun\n",
       "43774  168506001                     Aurelio        Bgy\n",
       "43775  168506002                    Cuarinta        Bgy\n",
       "43776  168506003  Don Ruben Ecleo (Baltazar)        Bgy\n",
       "43777  168506004                     Jacquez        Bgy\n",
       "43778  168506005            Justiniana Edera        Bgy\n",
       "43779  168506006                        Luna        Bgy\n",
       "43780  168506007                   Mahayahay        Bgy\n",
       "43781  168506008                    Matingbe        Bgy\n",
       "43782  168506009             San Jose (Pob.)        Bgy\n",
       "43783  168506010                    San Juan        Bgy\n",
       "43784  168506011                  Santa Cruz        Bgy\n",
       "43785  168506012                      Wilson        Bgy\n",
       "43786  168507000                     TUBAJON        Mun\n",
       "43787  168507001                      Imelda        Bgy\n",
       "43788  168507002                      Mabini        Bgy\n",
       "43789  168507003                     Malinao        Bgy\n",
       "43790  168507004                     Navarro        Bgy\n",
       "43791  168507005            Diaz (Romualdez)        Bgy\n",
       "43792  168507006                       Roxas        Bgy\n",
       "43793  168507007            San Roque (Pob.)        Bgy\n",
       "43794  168507008          San Vicente (Pob.)        Bgy\n",
       "43795  168507009           Santa Cruz (Pob.)        Bgy\n",
       "\n",
       "[43796 rows x 3 columns]"
      ]
     },
     "execution_count": 9,
     "metadata": {},
     "output_type": "execute_result"
    }
   ],
   "source": [
    "psgc"
   ]
  },
  {
   "cell_type": "markdown",
   "metadata": {},
   "source": [
    "## Capitalize the location field"
   ]
  },
  {
   "cell_type": "code",
   "execution_count": 10,
   "metadata": {
    "ExecuteTime": {
     "end_time": "2018-09-18T01:05:25.776542",
     "start_time": "2018-09-18T01:05:25.747232"
    },
    "collapsed": true
   },
   "outputs": [],
   "source": [
    "psgc['location'] = psgc['location'].str.upper()"
   ]
  },
  {
   "cell_type": "markdown",
   "metadata": {},
   "source": [
    "## Create a duplicate of the original PSGC dataframe"
   ]
  },
  {
   "cell_type": "code",
   "execution_count": 11,
   "metadata": {
    "ExecuteTime": {
     "end_time": "2018-09-18T01:05:28.498448",
     "start_time": "2018-09-18T01:05:28.489139"
    },
    "collapsed": true
   },
   "outputs": [],
   "source": [
    "og_psgc = psgc.copy()"
   ]
  },
  {
   "cell_type": "markdown",
   "metadata": {},
   "source": [
    "## Helpers"
   ]
  },
  {
   "cell_type": "code",
   "execution_count": 12,
   "metadata": {
    "ExecuteTime": {
     "end_time": "2018-09-18T01:05:28.510735",
     "start_time": "2018-09-18T01:05:28.501003"
    },
    "collapsed": false,
    "scrolled": false
   },
   "outputs": [
    {
     "ename": "SyntaxError",
     "evalue": "invalid syntax (<ipython-input-12-8dd2f34fb093>, line 11)",
     "output_type": "error",
     "traceback": [
      "\u001b[0;36m  File \u001b[0;32m\"<ipython-input-12-8dd2f34fb093>\"\u001b[0;36m, line \u001b[0;32m11\u001b[0m\n\u001b[0;31m    **row,\u001b[0m\n\u001b[0m     ^\u001b[0m\n\u001b[0;31mSyntaxError\u001b[0m\u001b[0;31m:\u001b[0m invalid syntax\n"
     ]
    }
   ],
   "source": [
    "pat_expand_location = re.compile('(.+)\\(+([^\\(\\)]+)\\)*')  # ¯\\_(ツ)_/¯ \n",
    "def expand_location(row):\n",
    "    '''\n",
    "    Extracts location names inside parens and expands it\n",
    "    to the new column `alt_location`\n",
    "    '''\n",
    "    m = pat_expand_location.search(row['location'])\n",
    "    if m:\n",
    "        location, alt_location = m.groups()\n",
    "        return {\n",
    "            **row,\n",
    "            'location': location.strip(),\n",
    "            'alt_location': alt_location.strip(),\n",
    "        }\n",
    "    return row"
   ]
  },
  {
   "cell_type": "markdown",
   "metadata": {},
   "source": [
    "## Clean regions"
   ]
  },
  {
   "cell_type": "code",
   "execution_count": null,
   "metadata": {
    "ExecuteTime": {
     "end_time": "2018-09-18T01:05:28.511508",
     "start_time": "2018-09-17T17:05:28.496Z"
    },
    "collapsed": true,
    "scrolled": false
   },
   "outputs": [],
   "source": [
    "regions = psgc[psgc['interlevel'] == 'Reg'].copy()"
   ]
  },
  {
   "cell_type": "code",
   "execution_count": null,
   "metadata": {
    "ExecuteTime": {
     "end_time": "2018-09-18T01:05:28.511966",
     "start_time": "2018-09-17T17:05:28.502Z"
    },
    "collapsed": false,
    "scrolled": false
   },
   "outputs": [],
   "source": [
    "regions"
   ]
  },
  {
   "cell_type": "markdown",
   "metadata": {},
   "source": [
    "Alternate names inside parens so we expand those out to a new column named `alt_location`."
   ]
  },
  {
   "cell_type": "code",
   "execution_count": null,
   "metadata": {
    "ExecuteTime": {
     "end_time": "2018-09-18T01:05:28.512299",
     "start_time": "2018-09-17T17:05:28.508Z"
    },
    "collapsed": true,
    "scrolled": false
   },
   "outputs": [],
   "source": [
    "regions = regions.apply(expand_location, axis=1, result_type='expand').fillna('')"
   ]
  },
  {
   "cell_type": "code",
   "execution_count": null,
   "metadata": {
    "ExecuteTime": {
     "end_time": "2018-09-18T01:05:28.514019",
     "start_time": "2018-09-17T17:05:28.513Z"
    },
    "collapsed": false,
    "scrolled": false
   },
   "outputs": [],
   "source": [
    "regions"
   ]
  },
  {
   "cell_type": "markdown",
   "metadata": {},
   "source": [
    "## Clean provinces"
   ]
  },
  {
   "cell_type": "code",
   "execution_count": null,
   "metadata": {
    "ExecuteTime": {
     "end_time": "2018-09-18T01:05:28.517454",
     "start_time": "2018-09-17T17:05:28.516Z"
    },
    "collapsed": true,
    "scrolled": false
   },
   "outputs": [],
   "source": [
    "provinces = psgc[psgc['interlevel'] == 'Prov'].copy()"
   ]
  },
  {
   "cell_type": "code",
   "execution_count": null,
   "metadata": {
    "ExecuteTime": {
     "end_time": "2018-09-18T01:05:28.521400",
     "start_time": "2018-09-17T17:05:28.520Z"
    },
    "collapsed": false,
    "scrolled": false
   },
   "outputs": [],
   "source": [
    "provinces"
   ]
  },
  {
   "cell_type": "markdown",
   "metadata": {},
   "source": [
    "Seems normal... But let's check for parens just in case:"
   ]
  },
  {
   "cell_type": "code",
   "execution_count": null,
   "metadata": {
    "ExecuteTime": {
     "end_time": "2018-09-18T01:05:28.524792",
     "start_time": "2018-09-17T17:05:28.524Z"
    },
    "collapsed": false,
    "scrolled": false
   },
   "outputs": [],
   "source": [
    "provinces[provinces['location'].str.contains('[\\(\\)]')]"
   ]
  },
  {
   "cell_type": "markdown",
   "metadata": {},
   "source": [
    "Sneaky alternate names!"
   ]
  },
  {
   "cell_type": "code",
   "execution_count": null,
   "metadata": {
    "ExecuteTime": {
     "end_time": "2018-09-18T01:05:28.528254",
     "start_time": "2018-09-17T17:05:28.527Z"
    },
    "collapsed": true,
    "scrolled": false
   },
   "outputs": [],
   "source": [
    "provinces = provinces.apply(expand_location, axis=1, result_type='expand').fillna('')"
   ]
  },
  {
   "cell_type": "code",
   "execution_count": null,
   "metadata": {
    "ExecuteTime": {
     "end_time": "2018-09-18T01:05:28.531661",
     "start_time": "2018-09-17T17:05:28.530Z"
    },
    "collapsed": false,
    "scrolled": false
   },
   "outputs": [],
   "source": [
    "provinces"
   ]
  },
  {
   "cell_type": "markdown",
   "metadata": {},
   "source": [
    "## Clean districts"
   ]
  },
  {
   "cell_type": "code",
   "execution_count": null,
   "metadata": {
    "ExecuteTime": {
     "end_time": "2018-09-18T01:05:28.535336",
     "start_time": "2018-09-17T17:05:28.534Z"
    },
    "collapsed": true,
    "scrolled": false
   },
   "outputs": [],
   "source": [
    "districts = psgc[psgc['interlevel'] == 'Dist'].copy()"
   ]
  },
  {
   "cell_type": "code",
   "execution_count": null,
   "metadata": {
    "ExecuteTime": {
     "end_time": "2018-09-18T01:05:28.538877",
     "start_time": "2018-09-17T17:05:28.538Z"
    },
    "collapsed": false,
    "scrolled": false
   },
   "outputs": [],
   "source": [
    "districts"
   ]
  },
  {
   "cell_type": "markdown",
   "metadata": {},
   "source": [
    "No one writes `NTH DISTRICT (Not a Province)` in their addresses..."
   ]
  },
  {
   "cell_type": "code",
   "execution_count": null,
   "metadata": {
    "ExecuteTime": {
     "end_time": "2018-09-18T01:05:28.542888",
     "start_time": "2018-09-17T17:05:28.542Z"
    },
    "collapsed": true,
    "scrolled": false
   },
   "outputs": [],
   "source": [
    "districts['location'] = (districts['location']\n",
    "                         .str.replace(',.+DISTRICT \\(Not a Province\\)', '')\n",
    "                         .str.strip())"
   ]
  },
  {
   "cell_type": "code",
   "execution_count": null,
   "metadata": {
    "ExecuteTime": {
     "end_time": "2018-09-18T01:05:28.547647",
     "start_time": "2018-09-17T17:05:28.546Z"
    },
    "collapsed": false,
    "scrolled": true
   },
   "outputs": [],
   "source": [
    "districts"
   ]
  },
  {
   "cell_type": "markdown",
   "metadata": {},
   "source": [
    "## Clean municipalities"
   ]
  },
  {
   "cell_type": "code",
   "execution_count": null,
   "metadata": {
    "ExecuteTime": {
     "end_time": "2018-09-18T01:05:28.551508",
     "start_time": "2018-09-17T17:05:28.551Z"
    },
    "collapsed": true,
    "scrolled": false
   },
   "outputs": [],
   "source": [
    "municipalities = psgc[psgc['interlevel'] == 'Mun'].copy()"
   ]
  },
  {
   "cell_type": "code",
   "execution_count": null,
   "metadata": {
    "ExecuteTime": {
     "end_time": "2018-09-18T01:05:28.555238",
     "start_time": "2018-09-17T17:05:28.554Z"
    },
    "collapsed": false,
    "scrolled": false
   },
   "outputs": [],
   "source": [
    "municipalities"
   ]
  },
  {
   "cell_type": "markdown",
   "metadata": {},
   "source": [
    "A few alternate names but what are those `(Capital)` ones?"
   ]
  },
  {
   "cell_type": "code",
   "execution_count": null,
   "metadata": {
    "ExecuteTime": {
     "end_time": "2018-09-18T01:05:28.559508",
     "start_time": "2018-09-17T17:05:28.558Z"
    },
    "collapsed": false,
    "scrolled": false
   },
   "outputs": [],
   "source": [
    "municipalities[municipalities['location'].str.contains('[\\(\\)]')]"
   ]
  },
  {
   "cell_type": "markdown",
   "metadata": {},
   "source": [
    "Apparently, they are capitals of their provinces. Safe to strip!"
   ]
  },
  {
   "cell_type": "code",
   "execution_count": null,
   "metadata": {
    "ExecuteTime": {
     "end_time": "2018-09-18T01:05:28.563469",
     "start_time": "2018-09-17T17:05:28.562Z"
    },
    "collapsed": true,
    "scrolled": false
   },
   "outputs": [],
   "source": [
    "municipalities['location'] = municipalities['location'].str.replace('\\(Capital\\)', '').str.strip()"
   ]
  },
  {
   "cell_type": "code",
   "execution_count": null,
   "metadata": {
    "ExecuteTime": {
     "end_time": "2018-09-18T01:05:28.567967",
     "start_time": "2018-09-17T17:05:28.567Z"
    },
    "collapsed": true,
    "scrolled": false
   },
   "outputs": [],
   "source": [
    "municipalities = municipalities.apply(expand_location, axis=1, result_type='expand').fillna('')"
   ]
  },
  {
   "cell_type": "code",
   "execution_count": null,
   "metadata": {
    "ExecuteTime": {
     "end_time": "2018-09-18T01:05:28.571781",
     "start_time": "2018-09-17T17:05:28.570Z"
    },
    "collapsed": false,
    "scrolled": false
   },
   "outputs": [],
   "source": [
    "municipalities"
   ]
  },
  {
   "cell_type": "markdown",
   "metadata": {},
   "source": [
    "## Clean cities"
   ]
  },
  {
   "cell_type": "code",
   "execution_count": null,
   "metadata": {
    "ExecuteTime": {
     "end_time": "2018-09-18T01:05:28.575981",
     "start_time": "2018-09-17T17:05:28.574Z"
    },
    "collapsed": true,
    "scrolled": false
   },
   "outputs": [],
   "source": [
    "cities = psgc[psgc['interlevel'] == 'City'].copy()"
   ]
  },
  {
   "cell_type": "code",
   "execution_count": null,
   "metadata": {
    "ExecuteTime": {
     "end_time": "2018-09-18T01:05:28.580117",
     "start_time": "2018-09-17T17:05:28.579Z"
    },
    "collapsed": false,
    "scrolled": false
   },
   "outputs": [],
   "source": [
    "cities"
   ]
  },
  {
   "cell_type": "markdown",
   "metadata": {},
   "source": [
    "Here we go with the `(Capital)` thing again."
   ]
  },
  {
   "cell_type": "code",
   "execution_count": null,
   "metadata": {
    "ExecuteTime": {
     "end_time": "2018-09-18T01:05:28.584505",
     "start_time": "2018-09-17T17:05:28.583Z"
    },
    "collapsed": true,
    "scrolled": false
   },
   "outputs": [],
   "source": [
    "cities['location'] =  cities['location'].str.replace('\\(Capital\\)', '').str.strip()"
   ]
  },
  {
   "cell_type": "markdown",
   "metadata": {},
   "source": [
    "Checking if there are still stuff with parens:"
   ]
  },
  {
   "cell_type": "code",
   "execution_count": null,
   "metadata": {
    "ExecuteTime": {
     "end_time": "2018-09-18T01:05:28.589291",
     "start_time": "2018-09-17T17:05:28.589Z"
    },
    "collapsed": false,
    "scrolled": false
   },
   "outputs": [],
   "source": [
    "cities[cities['location'].str.contains('[\\(\\)]')].head()"
   ]
  },
  {
   "cell_type": "markdown",
   "metadata": {},
   "source": [
    "A few alterate names!"
   ]
  },
  {
   "cell_type": "code",
   "execution_count": null,
   "metadata": {
    "ExecuteTime": {
     "end_time": "2018-09-18T01:05:28.593731",
     "start_time": "2018-09-17T17:05:28.593Z"
    },
    "collapsed": true,
    "scrolled": false
   },
   "outputs": [],
   "source": [
    "cities = cities.apply(expand_location, axis=1, result_type='expand').fillna('')"
   ]
  },
  {
   "cell_type": "markdown",
   "metadata": {},
   "source": [
    "Now what about those `CITY` pre/suffixes?"
   ]
  },
  {
   "cell_type": "code",
   "execution_count": null,
   "metadata": {
    "ExecuteTime": {
     "end_time": "2018-09-18T01:05:28.599568",
     "start_time": "2018-09-17T17:05:28.598Z"
    },
    "collapsed": false,
    "scrolled": false
   },
   "outputs": [],
   "source": [
    "cities[cities['location'].str.contains('CITY')]"
   ]
  },
  {
   "cell_type": "code",
   "execution_count": null,
   "metadata": {
    "ExecuteTime": {
     "end_time": "2018-09-18T01:05:28.604134",
     "start_time": "2018-09-17T17:05:28.602Z"
    },
    "collapsed": true,
    "scrolled": false
   },
   "outputs": [],
   "source": [
    "cities['location'] = (cities['location']\n",
    " .str.replace('^.*CITY OF', '')\n",
    " .str.strip()\n",
    " .str.replace('CITY$', '')\n",
    " .str.strip())"
   ]
  },
  {
   "cell_type": "code",
   "execution_count": null,
   "metadata": {
    "ExecuteTime": {
     "end_time": "2018-09-18T01:05:28.608622",
     "start_time": "2018-09-17T17:05:28.607Z"
    },
    "collapsed": false,
    "scrolled": false
   },
   "outputs": [],
   "source": [
    "cities"
   ]
  },
  {
   "cell_type": "markdown",
   "metadata": {},
   "source": [
    "## Clean sub-municipalities"
   ]
  },
  {
   "cell_type": "code",
   "execution_count": null,
   "metadata": {
    "ExecuteTime": {
     "end_time": "2018-09-18T01:05:28.613581",
     "start_time": "2018-09-17T17:05:28.613Z"
    },
    "collapsed": true,
    "scrolled": false
   },
   "outputs": [],
   "source": [
    "sub_municipalities = psgc[psgc['interlevel'] == 'SubMun'].copy()"
   ]
  },
  {
   "cell_type": "code",
   "execution_count": null,
   "metadata": {
    "ExecuteTime": {
     "end_time": "2018-09-18T01:05:28.618536",
     "start_time": "2018-09-17T17:05:28.617Z"
    },
    "collapsed": false,
    "scrolled": false
   },
   "outputs": [],
   "source": [
    "sub_municipalities"
   ]
  },
  {
   "cell_type": "markdown",
   "metadata": {},
   "source": [
    "Nothing special!"
   ]
  },
  {
   "cell_type": "markdown",
   "metadata": {},
   "source": [
    "## Clean barangays"
   ]
  },
  {
   "cell_type": "code",
   "execution_count": null,
   "metadata": {
    "ExecuteTime": {
     "end_time": "2018-09-18T01:05:28.623656",
     "start_time": "2018-09-17T17:05:28.624Z"
    },
    "collapsed": true,
    "scrolled": false
   },
   "outputs": [],
   "source": [
    "barangays = psgc[psgc['interlevel'] == 'Bgy'].copy()"
   ]
  },
  {
   "cell_type": "code",
   "execution_count": null,
   "metadata": {
    "ExecuteTime": {
     "end_time": "2018-09-18T01:05:28.633144",
     "start_time": "2018-09-17T17:05:28.631Z"
    },
    "collapsed": false,
    "scrolled": false
   },
   "outputs": [],
   "source": [
    "barangays"
   ]
  },
  {
   "cell_type": "markdown",
   "metadata": {},
   "source": [
    "We see alternate names again but notice the `(Pob.)` suffixes. A quick Google search shows that it's short for `Poblacion` which is used to denote the commercial and industrial center of a city."
   ]
  },
  {
   "cell_type": "code",
   "execution_count": null,
   "metadata": {
    "ExecuteTime": {
     "end_time": "2018-09-18T01:05:28.640627",
     "start_time": "2018-09-17T17:05:28.639Z"
    },
    "collapsed": true,
    "scrolled": false
   },
   "outputs": [],
   "source": [
    "barangays['location'] = (barangays['location']\n",
    "                         .str.replace('\\(?POB\\.\\)?', '')\n",
    "                         .str.strip())"
   ]
  },
  {
   "cell_type": "markdown",
   "metadata": {},
   "source": [
    "Let's check for more weird characters:"
   ]
  },
  {
   "cell_type": "code",
   "execution_count": null,
   "metadata": {
    "ExecuteTime": {
     "end_time": "2018-09-18T01:05:28.647316",
     "start_time": "2018-09-17T17:05:28.647Z"
    },
    "collapsed": false,
    "scrolled": false
   },
   "outputs": [],
   "source": [
    "barangays[barangays['location'].str.contains('[^A-ZÑ0-9\\-.\\/\\(\\) ]')]"
   ]
  },
  {
   "cell_type": "markdown",
   "metadata": {},
   "source": [
    "Aside for alternate names, there are those starting with `BGY. NO. X,`:"
   ]
  },
  {
   "cell_type": "code",
   "execution_count": null,
   "metadata": {
    "ExecuteTime": {
     "end_time": "2018-09-18T01:05:28.652757",
     "start_time": "2018-09-17T17:05:28.652Z"
    },
    "collapsed": false,
    "scrolled": false
   },
   "outputs": [],
   "source": [
    "barangays[barangays['location'].str.contains('^B[GR]Y. NO.')]"
   ]
  },
  {
   "cell_type": "markdown",
   "metadata": {},
   "source": [
    "Let's set the `BGY. NO. X` bit as `alt_location`:"
   ]
  },
  {
   "cell_type": "code",
   "execution_count": null,
   "metadata": {
    "ExecuteTime": {
     "end_time": "2018-09-18T01:05:28.658267",
     "start_time": "2018-09-17T17:05:28.657Z"
    },
    "collapsed": true,
    "scrolled": false
   },
   "outputs": [],
   "source": [
    "pat_expand_bgy_location = re.compile('(B[GR]Y. NO. \\d+\\-?\\w?),? (.+)')\n",
    "def expand_bgy_location(row):\n",
    "    m = pat_expand_bgy_location.search(row['location'])\n",
    "    if m:\n",
    "        alt_location, location = m.groups()\n",
    "        return {\n",
    "            **row,\n",
    "            'location': location.strip(),\n",
    "            'alt_location': alt_location.strip(),\n",
    "        }\n",
    "    return expand_location(row)\n",
    "barangays = barangays.apply(expand_bgy_location, axis=1, result_type='expand').fillna('')"
   ]
  },
  {
   "cell_type": "markdown",
   "metadata": {},
   "source": [
    "Check if we got all (there should be 80):"
   ]
  },
  {
   "cell_type": "code",
   "execution_count": null,
   "metadata": {
    "ExecuteTime": {
     "end_time": "2018-09-18T01:05:28.663772",
     "start_time": "2018-09-17T17:05:28.663Z"
    },
    "collapsed": false,
    "scrolled": false
   },
   "outputs": [],
   "source": [
    "barangays[barangays['alt_location'].str.contains('B[GR]Y. NO.')]"
   ]
  },
  {
   "cell_type": "markdown",
   "metadata": {},
   "source": [
    "Another check for weird stuff:"
   ]
  },
  {
   "cell_type": "code",
   "execution_count": null,
   "metadata": {
    "ExecuteTime": {
     "end_time": "2018-09-18T01:05:28.669165",
     "start_time": "2018-09-17T17:05:28.668Z"
    },
    "collapsed": false,
    "scrolled": false
   },
   "outputs": [],
   "source": [
    "barangays[barangays['location'].str.contains('[^A-ZÑ0-9 \\-.,\\/]')]"
   ]
  },
  {
   "cell_type": "markdown",
   "metadata": {},
   "source": [
    "Trim weird stuff:"
   ]
  },
  {
   "cell_type": "code",
   "execution_count": null,
   "metadata": {
    "ExecuteTime": {
     "end_time": "2018-09-18T01:05:28.674878",
     "start_time": "2018-09-17T17:05:28.674Z"
    },
    "collapsed": true,
    "scrolled": false
   },
   "outputs": [],
   "source": [
    "barangays['location'] = barangays['location'].str.strip('[\\*\\(\\)]')\n",
    "barangays['alt_location'] = barangays['alt_location'].str.strip('[\\*\\(\\)]')"
   ]
  },
  {
   "cell_type": "markdown",
   "metadata": {},
   "source": [
    "Last check!"
   ]
  },
  {
   "cell_type": "code",
   "execution_count": null,
   "metadata": {
    "ExecuteTime": {
     "end_time": "2018-09-18T01:05:28.680502",
     "start_time": "2018-09-17T17:05:28.680Z"
    },
    "collapsed": false,
    "scrolled": false
   },
   "outputs": [],
   "source": [
    "barangays[barangays['location'].str.contains('[^A-ZÑ0-9 \\-.,\\/]')]"
   ]
  },
  {
   "cell_type": "markdown",
   "metadata": {},
   "source": [
    "## ARMM: Cotabato and Isabela City"
   ]
  },
  {
   "cell_type": "code",
   "execution_count": null,
   "metadata": {
    "ExecuteTime": {
     "end_time": "2018-09-18T01:05:28.686106",
     "start_time": "2018-09-17T17:05:28.685Z"
    },
    "collapsed": false
   },
   "outputs": [],
   "source": [
    "armm = psgc[psgc['interlevel'].isnull()].copy()\n",
    "armm"
   ]
  },
  {
   "cell_type": "code",
   "execution_count": null,
   "metadata": {
    "ExecuteTime": {
     "end_time": "2018-09-18T01:05:28.693492",
     "start_time": "2018-09-17T17:05:28.693Z"
    },
    "collapsed": false
   },
   "outputs": [],
   "source": [
    "armm['location'] = armm['location'].str.replace('\\(Not a Province\\)', '')\n",
    "armm"
   ]
  },
  {
   "cell_type": "code",
   "execution_count": null,
   "metadata": {
    "ExecuteTime": {
     "end_time": "2018-09-18T01:05:28.699190",
     "start_time": "2018-09-17T17:05:28.698Z"
    },
    "collapsed": false
   },
   "outputs": [],
   "source": [
    "armm['location'] = (armm['location']\n",
    " .str.replace('^.*CITY OF', '')\n",
    " .str.strip()\n",
    " .str.replace('CITY$', '')\n",
    " .str.strip())\n",
    "armm"
   ]
  },
  {
   "cell_type": "markdown",
   "metadata": {},
   "source": [
    "## All together now"
   ]
  },
  {
   "cell_type": "code",
   "execution_count": null,
   "metadata": {
    "ExecuteTime": {
     "end_time": "2018-09-18T01:05:28.705449",
     "start_time": "2018-09-17T17:05:28.704Z"
    },
    "collapsed": true,
    "scrolled": false
   },
   "outputs": [],
   "source": [
    "merged = pd.concat([\n",
    "    regions,\n",
    "    provinces,\n",
    "    districts,\n",
    "    municipalities,\n",
    "    cities,\n",
    "    sub_municipalities,\n",
    "    barangays,\n",
    "    armm\n",
    "], sort=True).sort_index().fillna('')"
   ]
  },
  {
   "cell_type": "markdown",
   "metadata": {},
   "source": [
    "Are counts still correct?"
   ]
  },
  {
   "cell_type": "code",
   "execution_count": null,
   "metadata": {
    "ExecuteTime": {
     "end_time": "2018-09-18T01:05:28.711556",
     "start_time": "2018-09-17T17:05:28.710Z"
    },
    "collapsed": false,
    "scrolled": false
   },
   "outputs": [],
   "source": [
    "psgc['interlevel'].value_counts()"
   ]
  },
  {
   "cell_type": "code",
   "execution_count": null,
   "metadata": {
    "ExecuteTime": {
     "end_time": "2018-09-18T01:05:28.717624",
     "start_time": "2018-09-17T17:05:28.716Z"
    },
    "collapsed": false,
    "scrolled": false
   },
   "outputs": [],
   "source": [
    "merged['interlevel'].value_counts()"
   ]
  },
  {
   "cell_type": "code",
   "execution_count": null,
   "metadata": {
    "ExecuteTime": {
     "end_time": "2018-09-18T01:05:28.724217",
     "start_time": "2018-09-17T17:05:28.723Z"
    },
    "collapsed": false
   },
   "outputs": [],
   "source": [
    "display(len(merged), len(psgc))"
   ]
  },
  {
   "cell_type": "markdown",
   "metadata": {},
   "source": [
    "Extract alternate locations into a new dataframe:"
   ]
  },
  {
   "cell_type": "code",
   "execution_count": null,
   "metadata": {
    "ExecuteTime": {
     "end_time": "2018-09-18T01:05:28.731158",
     "start_time": "2018-09-17T17:05:28.730Z"
    },
    "collapsed": true,
    "scrolled": false
   },
   "outputs": [],
   "source": [
    "alt = merged[merged['alt_location'] != ''].copy()\n",
    "alt['location'] = alt.pop('alt_location')"
   ]
  },
  {
   "cell_type": "code",
   "execution_count": null,
   "metadata": {
    "ExecuteTime": {
     "end_time": "2018-09-18T01:05:28.739657",
     "start_time": "2018-09-17T17:05:28.738Z"
    },
    "collapsed": false,
    "scrolled": true
   },
   "outputs": [],
   "source": [
    "alt"
   ]
  },
  {
   "cell_type": "markdown",
   "metadata": {},
   "source": [
    "Concat alternate locations and do final cleanup on location name:"
   ]
  },
  {
   "cell_type": "code",
   "execution_count": null,
   "metadata": {
    "ExecuteTime": {
     "end_time": "2018-09-18T01:05:28.746934",
     "start_time": "2018-09-17T17:05:28.746Z"
    },
    "collapsed": true,
    "scrolled": false
   },
   "outputs": [],
   "source": [
    "clean_psgc = (pd.concat([merged.drop(columns=['alt_location']), alt], ignore_index=True)\n",
    "              .sort_values('code')\n",
    "              .reset_index(drop=True))"
   ]
  },
  {
   "cell_type": "markdown",
   "metadata": {},
   "source": [
    "Normalize `Ñ` and remove remaining `*`s:"
   ]
  },
  {
   "cell_type": "code",
   "execution_count": null,
   "metadata": {
    "ExecuteTime": {
     "end_time": "2018-09-18T01:05:28.755115",
     "start_time": "2018-09-17T17:05:28.754Z"
    },
    "collapsed": true
   },
   "outputs": [],
   "source": [
    "clean_psgc['location'] = (clean_psgc['location']\n",
    "                          .str.replace('Ñ', 'N')\n",
    "                          .str.replace('\\*', ''))"
   ]
  },
  {
   "cell_type": "markdown",
   "metadata": {},
   "source": [
    "Normalize numbers:"
   ]
  },
  {
   "cell_type": "code",
   "execution_count": null,
   "metadata": {
    "ExecuteTime": {
     "end_time": "2018-09-18T01:05:28.762371",
     "start_time": "2018-09-17T17:05:28.761Z"
    },
    "collapsed": false,
    "scrolled": true
   },
   "outputs": [],
   "source": [
    "spanish = clean_psgc[clean_psgc['location'].str.contains(' (UNO|DOS|TRES|KUATRO|SINGKO)$')].copy()"
   ]
  },
  {
   "cell_type": "code",
   "execution_count": null,
   "metadata": {
    "ExecuteTime": {
     "end_time": "2018-09-18T01:05:28.770701",
     "start_time": "2018-09-17T17:05:28.769Z"
    },
    "collapsed": false
   },
   "outputs": [],
   "source": [
    "for i, s in enumerate([\n",
    "    'UNO',\n",
    "    'DOS',\n",
    "    'TRES',\n",
    "    'KUATRO',\n",
    "    'SINGKO',\n",
    "]):\n",
    "    spanish['location'] = spanish['location'].str.replace(' {}$'.format(s), ' {}'.format(i + 1))\n",
    "spanish"
   ]
  },
  {
   "cell_type": "code",
   "execution_count": null,
   "metadata": {
    "ExecuteTime": {
     "end_time": "2018-09-18T01:05:28.780363",
     "start_time": "2018-09-17T17:05:28.778Z"
    },
    "collapsed": false,
    "scrolled": true
   },
   "outputs": [],
   "source": [
    "roman = clean_psgc[clean_psgc['location'].str.contains('\\s(X{0,3})(IX|IV|V?I{0,3})$')].copy()"
   ]
  },
  {
   "cell_type": "code",
   "execution_count": null,
   "metadata": {
    "ExecuteTime": {
     "end_time": "2018-09-18T01:05:28.787955",
     "start_time": "2018-09-17T17:05:28.787Z"
    },
    "collapsed": false,
    "scrolled": true
   },
   "outputs": [],
   "source": [
    "for i, s in enumerate('I,II,III,IV,V,VI,VII,VIII,IX,X,XI,XII,XIII,XIV,XV,XVI,XVII,XVIII,XIX,XX,XXI,XXII'.split(',')):\n",
    "    roman['location'] = roman['location'].str.replace(' {}$'.format(s), ' {}'.format(i + 1))\n",
    "roman"
   ]
  },
  {
   "cell_type": "markdown",
   "metadata": {},
   "source": [
    "Provide alternate names for locations with President names"
   ]
  },
  {
   "cell_type": "code",
   "execution_count": null,
   "metadata": {
    "ExecuteTime": {
     "end_time": "2018-09-18T01:05:28.794719",
     "start_time": "2018-09-17T17:05:28.794Z"
    },
    "collapsed": true
   },
   "outputs": [],
   "source": [
    "president = clean_psgc[clean_psgc.location.str.contains('PRES\\.', flags=re.IGNORECASE)].copy()\n",
    "president['location'] = president['location'].str.replace('^PRES\\.', 'PRESIDENT')"
   ]
  },
  {
   "cell_type": "markdown",
   "metadata": {},
   "source": [
    "# Add alternative names to the Manila districts"
   ]
  },
  {
   "cell_type": "code",
   "execution_count": null,
   "metadata": {
    "ExecuteTime": {
     "end_time": "2018-09-18T01:05:28.801546",
     "start_time": "2018-09-17T17:05:28.801Z"
    },
    "collapsed": false
   },
   "outputs": [],
   "source": [
    "alt_ncr_as_manila = clean_psgc[clean_psgc.interlevel == 'Dist'].copy()\n",
    "alt_ncr_as_manila['location'] = alt_ncr_as_manila['location'].str.replace('NCR', 'MANILA')\n",
    "\n",
    "alt_ncr_as_metro_manila = clean_psgc[clean_psgc.interlevel == 'Dist'].copy()\n",
    "alt_ncr_as_metro_manila['location'] = alt_ncr_as_metro_manila['location'].str.replace('NCR', 'METRO MANILA')\n",
    "\n",
    "alt_ncr_abbvr_expanded = clean_psgc[clean_psgc.interlevel == 'Dist'].copy()\n",
    "alt_ncr_abbvr_expanded['location'] = alt_ncr_abbvr_expanded['location'].str.replace('NCR', 'NATIONAL CAPITAL REGION')\n",
    "\n",
    "alt_ncr_as_metropolitan = clean_psgc[clean_psgc.interlevel == 'Dist'].copy()\n",
    "alt_ncr_as_metropolitan['location'] = alt_ncr_as_metropolitan['location'].str.replace('NCR', 'METROPOLITAN MANILA')\n",
    "\n",
    "alt_districts = pd.concat([alt_ncr_as_manila,\n",
    "                           alt_ncr_abbvr_expanded,\n",
    "                           alt_ncr_as_metropolitan,\n",
    "                           alt_ncr_as_metro_manila], ignore_index=True)\n",
    "alt_districts"
   ]
  },
  {
   "cell_type": "markdown",
   "metadata": {},
   "source": [
    "# Add Ñ -> N as an alternate name"
   ]
  },
  {
   "cell_type": "code",
   "execution_count": null,
   "metadata": {
    "ExecuteTime": {
     "end_time": "2018-09-18T01:05:28.808556",
     "start_time": "2018-09-17T17:05:28.808Z"
    },
    "collapsed": false
   },
   "outputs": [],
   "source": [
    "enye = clean_psgc[clean_psgc.location.str.contains('Ñ')].copy()\n",
    "enye.head()"
   ]
  },
  {
   "cell_type": "code",
   "execution_count": null,
   "metadata": {
    "ExecuteTime": {
     "end_time": "2018-09-18T01:05:28.815376",
     "start_time": "2018-09-17T17:05:28.814Z"
    },
    "collapsed": false
   },
   "outputs": [],
   "source": [
    "enye['location'] = enye['location'].str.replace('Ñ', 'N')\n",
    "enye.head()"
   ]
  },
  {
   "cell_type": "markdown",
   "metadata": {},
   "source": [
    "# Concat the alternates to the main dataframe"
   ]
  },
  {
   "cell_type": "code",
   "execution_count": null,
   "metadata": {
    "ExecuteTime": {
     "end_time": "2018-09-18T01:05:28.822784",
     "start_time": "2018-09-17T17:05:28.821Z"
    },
    "collapsed": true
   },
   "outputs": [],
   "source": [
    "clean_psgc = (pd.concat([clean_psgc, spanish, roman, president, alt_districts, enye], ignore_index=True)\n",
    "              .sort_values('code')\n",
    "              .reset_index(drop=True))"
   ]
  },
  {
   "cell_type": "markdown",
   "metadata": {},
   "source": [
    "Last check for weird stuff!"
   ]
  },
  {
   "cell_type": "code",
   "execution_count": null,
   "metadata": {
    "ExecuteTime": {
     "end_time": "2018-09-18T01:05:28.829993",
     "start_time": "2018-09-17T17:05:28.829Z"
    },
    "collapsed": false,
    "scrolled": true
   },
   "outputs": [],
   "source": [
    "clean_psgc[clean_psgc['location'].str.contains('[^A-Z0-9 \\-.,\\']')]"
   ]
  },
  {
   "cell_type": "markdown",
   "metadata": {},
   "source": [
    "We can probably still split with `&` and `/` but this is good enough for now."
   ]
  },
  {
   "cell_type": "markdown",
   "metadata": {},
   "source": [
    "## Combine the cleaned up PSGC and remove the duplicates"
   ]
  },
  {
   "cell_type": "code",
   "execution_count": null,
   "metadata": {
    "ExecuteTime": {
     "end_time": "2018-09-18T01:05:28.839239",
     "start_time": "2018-09-17T17:05:28.838Z"
    },
    "collapsed": true
   },
   "outputs": [],
   "source": [
    "og_psgc['original'] = True\n",
    "clean_psgc['original'] = False\n",
    "\n",
    "clean_psgc = pd.concat([og_psgc, clean_psgc], sort=False)\n",
    "clean_psgc.drop_duplicates(subset=['code', 'location', 'interlevel'], inplace=True)\n",
    "clean_psgc.sort_values('code', inplace=True)"
   ]
  },
  {
   "cell_type": "markdown",
   "metadata": {},
   "source": [
    "Check that we have both the original name and the alternate ones"
   ]
  },
  {
   "cell_type": "code",
   "execution_count": null,
   "metadata": {
    "ExecuteTime": {
     "end_time": "2018-09-18T01:05:28.846949",
     "start_time": "2018-09-17T17:05:28.846Z"
    },
    "collapsed": false
   },
   "outputs": [],
   "source": [
    "clean_psgc[clean_psgc.code.str.contains('086000000')]"
   ]
  },
  {
   "cell_type": "code",
   "execution_count": null,
   "metadata": {
    "ExecuteTime": {
     "end_time": "2018-09-18T01:05:28.854416",
     "start_time": "2018-09-17T17:05:28.853Z"
    },
    "collapsed": true,
    "scrolled": false
   },
   "outputs": [],
   "source": [
    "clean_psgc.to_csv('clean-psgc.csv.gz', index=False, compression='gzip')"
   ]
  },
  {
   "cell_type": "markdown",
   "metadata": {},
   "source": [
    "And we're done!"
   ]
  }
 ],
 "metadata": {
  "kernelspec": {
   "display_name": "Python 2",
   "language": "python",
   "name": "python2"
  },
  "language_info": {
   "codemirror_mode": {
    "name": "ipython",
    "version": 2
   },
   "file_extension": ".py",
   "mimetype": "text/x-python",
   "name": "python",
   "nbconvert_exporter": "python",
   "pygments_lexer": "ipython2",
   "version": "2.7.13"
  },
  "toc": {
   "colors": {
    "hover_highlight": "#DAA520",
    "running_highlight": "#FF0000",
    "selected_highlight": "#FFD700"
   },
   "moveMenuLeft": true,
   "nav_menu": {
    "height": "318px",
    "width": "252px"
   },
   "navigate_menu": true,
   "number_sections": true,
   "sideBar": true,
   "threshold": 4,
   "toc_cell": false,
   "toc_section_display": "block",
   "toc_window_display": false
  }
 },
 "nbformat": 4,
 "nbformat_minor": 2
}
