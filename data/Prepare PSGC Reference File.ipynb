{
 "cells": [
  {
   "cell_type": "code",
   "execution_count": 1,
   "metadata": {
    "ExecuteTime": {
     "end_time": "2018-09-27T10:35:13.152985",
     "start_time": "2018-09-27T10:35:12.049360"
    },
    "collapsed": false
   },
   "outputs": [],
   "source": [
    "import pandas as pd\n",
    "import operator\n",
    "import re, string\n",
    "import numpy as np"
   ]
  },
  {
   "cell_type": "markdown",
   "metadata": {},
   "source": [
    "# Prepare Philippine Standard Geographic Code Reference File"
   ]
  },
  {
   "cell_type": "code",
   "execution_count": 2,
   "metadata": {
    "ExecuteTime": {
     "end_time": "2018-09-27T10:35:13.239668",
     "start_time": "2018-09-27T10:35:13.155293"
    },
    "collapsed": false
   },
   "outputs": [],
   "source": [
    "psgc = pd.read_csv(\"clean-psgc.csv.gz\",dtype={'code':'object'},compression=\"gzip\",encoding=\"utf-8\")"
   ]
  },
  {
   "cell_type": "code",
   "execution_count": 3,
   "metadata": {
    "ExecuteTime": {
     "end_time": "2018-09-27T10:35:13.296514",
     "start_time": "2018-09-27T10:35:13.241496"
    },
    "collapsed": false
   },
   "outputs": [],
   "source": [
    "psgc.location = psgc.location.str.encode(\"utf-8\")"
   ]
  },
  {
   "cell_type": "code",
   "execution_count": 4,
   "metadata": {
    "ExecuteTime": {
     "end_time": "2018-09-27T10:35:13.319385",
     "start_time": "2018-09-27T10:35:13.298041"
    },
    "collapsed": false
   },
   "outputs": [
    {
     "name": "stdout",
     "output_type": "stream",
     "text": [
      "<class 'pandas.core.frame.DataFrame'>\n",
      "RangeIndex: 52214 entries, 0 to 52213\n",
      "Data columns (total 4 columns):\n",
      "code          52214 non-null object\n",
      "location      52214 non-null object\n",
      "interlevel    52210 non-null object\n",
      "original      52214 non-null bool\n",
      "dtypes: bool(1), object(3)\n",
      "memory usage: 1.2+ MB\n"
     ]
    }
   ],
   "source": [
    "psgc.info()"
   ]
  },
  {
   "cell_type": "code",
   "execution_count": 5,
   "metadata": {
    "ExecuteTime": {
     "end_time": "2018-09-27T10:35:13.347732",
     "start_time": "2018-09-27T10:35:13.321847"
    },
    "collapsed": false
   },
   "outputs": [
    {
     "data": {
      "text/html": [
       "<div>\n",
       "<table border=\"1\" class=\"dataframe\">\n",
       "  <thead>\n",
       "    <tr style=\"text-align: right;\">\n",
       "      <th></th>\n",
       "      <th>code</th>\n",
       "      <th>location</th>\n",
       "      <th>interlevel</th>\n",
       "      <th>original</th>\n",
       "    </tr>\n",
       "  </thead>\n",
       "  <tbody>\n",
       "    <tr>\n",
       "      <th>0</th>\n",
       "      <td>010000000</td>\n",
       "      <td>REGION I (ILOCOS REGION)</td>\n",
       "      <td>Reg</td>\n",
       "      <td>True</td>\n",
       "    </tr>\n",
       "    <tr>\n",
       "      <th>1</th>\n",
       "      <td>010000000</td>\n",
       "      <td>ILOCOS REGION</td>\n",
       "      <td>Reg</td>\n",
       "      <td>False</td>\n",
       "    </tr>\n",
       "    <tr>\n",
       "      <th>2</th>\n",
       "      <td>010000000</td>\n",
       "      <td>REGION 1</td>\n",
       "      <td>Reg</td>\n",
       "      <td>False</td>\n",
       "    </tr>\n",
       "    <tr>\n",
       "      <th>3</th>\n",
       "      <td>010000000</td>\n",
       "      <td>REGION I</td>\n",
       "      <td>Reg</td>\n",
       "      <td>False</td>\n",
       "    </tr>\n",
       "    <tr>\n",
       "      <th>4</th>\n",
       "      <td>012800000</td>\n",
       "      <td>ILOCOS NORTE</td>\n",
       "      <td>Prov</td>\n",
       "      <td>True</td>\n",
       "    </tr>\n",
       "  </tbody>\n",
       "</table>\n",
       "</div>"
      ],
      "text/plain": [
       "        code                  location interlevel original\n",
       "0  010000000  REGION I (ILOCOS REGION)        Reg     True\n",
       "1  010000000             ILOCOS REGION        Reg    False\n",
       "2  010000000                  REGION 1        Reg    False\n",
       "3  010000000                  REGION I        Reg    False\n",
       "4  012800000              ILOCOS NORTE       Prov     True"
      ]
     },
     "execution_count": 5,
     "metadata": {},
     "output_type": "execute_result"
    }
   ],
   "source": [
    "psgc.head()"
   ]
  },
  {
   "cell_type": "code",
   "execution_count": 6,
   "metadata": {
    "ExecuteTime": {
     "end_time": "2018-09-27T10:35:13.364359",
     "start_time": "2018-09-27T10:35:13.349395"
    },
    "collapsed": false
   },
   "outputs": [],
   "source": [
    "#totally drop places that are just \"capital\" or \"not a province\". I think in the previous cleanups of the PSGC file anything\n",
    "#in parentheses was turned into a new row. As such, \"Capital\" was often turned into a new row.\n",
    "\n",
    "psgc = psgc[psgc.location.isin([\"CAPITAL\",\"NOT A PROVINCE\"])==False].reset_index(drop=True)"
   ]
  },
  {
   "cell_type": "code",
   "execution_count": 7,
   "metadata": {
    "ExecuteTime": {
     "end_time": "2018-09-27T10:35:13.729386",
     "start_time": "2018-09-27T10:35:13.366143"
    },
    "collapsed": false
   },
   "outputs": [],
   "source": [
    "#interlevel lower\n",
    "psgc.interlevel = psgc.interlevel.str.lower().str.encode(\"utf-8\")\n",
    "psgc.interlevel = psgc.interlevel.replace({\"mun\":\"municity\",\"city\":\"municity\"}) #combine municity for now\n",
    "\n",
    "#Clean location column a bit. but not too much because we'll use this as the \"canonical\" name\n",
    "psgc['location'] = psgc.location.str.replace(r\"NOT A PROVINCE|CAPITAL|\\(|\\)\",\"\").str.strip()\n",
    "psgc = psgc.drop_duplicates(subset=[\"code\",\"location\",\"interlevel\"],keep=\"first\")"
   ]
  },
  {
   "cell_type": "code",
   "execution_count": 8,
   "metadata": {
    "ExecuteTime": {
     "end_time": "2018-09-27T10:35:13.748212",
     "start_time": "2018-09-27T10:35:13.735316"
    },
    "collapsed": false
   },
   "outputs": [
    {
     "data": {
      "text/plain": [
       "bgy         49971\n",
       "municity     1942\n",
       "prov           85\n",
       "reg            61\n",
       "dist           20\n",
       "submun         14\n",
       "Name: interlevel, dtype: int64"
      ]
     },
     "execution_count": 8,
     "metadata": {},
     "output_type": "execute_result"
    }
   ],
   "source": [
    "psgc.interlevel.value_counts()"
   ]
  },
  {
   "cell_type": "code",
   "execution_count": 9,
   "metadata": {
    "ExecuteTime": {
     "end_time": "2018-09-27T10:35:13.836988",
     "start_time": "2018-09-27T10:35:13.751028"
    },
    "collapsed": false
   },
   "outputs": [
    {
     "name": "stderr",
     "output_type": "stream",
     "text": [
      "/Users/piafaustino/anaconda/lib/python2.7/site-packages/pandas/core/indexing.py:476: SettingWithCopyWarning: \n",
      "A value is trying to be set on a copy of a slice from a DataFrame.\n",
      "Try using .loc[row_indexer,col_indexer] = value instead\n",
      "\n",
      "See the caveats in the documentation: http://pandas.pydata.org/pandas-docs/stable/indexing.html#indexing-view-versus-copy\n",
      "  self.obj[item] = s\n"
     ]
    },
    {
     "data": {
      "text/html": [
       "<div>\n",
       "<table border=\"1\" class=\"dataframe\">\n",
       "  <thead>\n",
       "    <tr style=\"text-align: right;\">\n",
       "      <th></th>\n",
       "      <th>code</th>\n",
       "      <th>location</th>\n",
       "      <th>interlevel</th>\n",
       "      <th>original</th>\n",
       "    </tr>\n",
       "  </thead>\n",
       "  <tbody>\n",
       "    <tr>\n",
       "      <th>0</th>\n",
       "      <td>130000000</td>\n",
       "      <td>NATIONAL CAPITAL REGION NCR</td>\n",
       "      <td>reg</td>\n",
       "      <td>True</td>\n",
       "    </tr>\n",
       "    <tr>\n",
       "      <th>1</th>\n",
       "      <td>130000000</td>\n",
       "      <td>NCR</td>\n",
       "      <td>reg</td>\n",
       "      <td>False</td>\n",
       "    </tr>\n",
       "    <tr>\n",
       "      <th>2</th>\n",
       "      <td>130000000</td>\n",
       "      <td>NATIONAL CAPITAL REGION</td>\n",
       "      <td>reg</td>\n",
       "      <td>False</td>\n",
       "    </tr>\n",
       "    <tr>\n",
       "      <th>3</th>\n",
       "      <td>130000000</td>\n",
       "      <td>METRO MANILA</td>\n",
       "      <td>reg</td>\n",
       "      <td>False</td>\n",
       "    </tr>\n",
       "    <tr>\n",
       "      <th>4</th>\n",
       "      <td>130000000</td>\n",
       "      <td>METROPOLITAN MANILA</td>\n",
       "      <td>reg</td>\n",
       "      <td>False</td>\n",
       "    </tr>\n",
       "  </tbody>\n",
       "</table>\n",
       "</div>"
      ],
      "text/plain": [
       "        code                     location interlevel original\n",
       "0  130000000  NATIONAL CAPITAL REGION NCR        reg     True\n",
       "1  130000000                          NCR        reg    False\n",
       "2  130000000      NATIONAL CAPITAL REGION        reg    False\n",
       "3  130000000                 METRO MANILA        reg    False\n",
       "4  130000000          METROPOLITAN MANILA        reg    False"
      ]
     },
     "execution_count": 9,
     "metadata": {},
     "output_type": "execute_result"
    }
   ],
   "source": [
    "# rename districts as simply \"Metro Manila\", \"Metropolitan Manila\", \"National Capital Region\" or \"NCR\"\n",
    "\n",
    "ncr = psgc[(psgc.code == \"130000000\")]\n",
    "ncr.loc[:,\"location\"] = ncr.location.str.replace(\"NATIONAL  REGION\",\"NATIONAL CAPITAL REGION\")\n",
    "ncr.loc[:,\"location\"] = ncr.location.str.replace(\"NATIONAL  REGION\",\"NATIONAL CAPITAL REGION\")\n",
    "ncr = ncr.append(pd.Series({\"code\":\"130000000\",\"location\":\"METRO MANILA\",\"interlevel\":\"reg\",\"original\":False}),ignore_index=True)\n",
    "ncr = ncr.append(pd.Series({\"code\":\"130000000\",\"location\":\"METROPOLITAN MANILA\",\"interlevel\":\"reg\",\"original\":False}),ignore_index=True)\n",
    "ncr.head()"
   ]
  },
  {
   "cell_type": "code",
   "execution_count": 10,
   "metadata": {
    "ExecuteTime": {
     "end_time": "2018-09-27T10:35:13.907570",
     "start_time": "2018-09-27T10:35:13.839274"
    },
    "collapsed": false
   },
   "outputs": [
    {
     "name": "stdout",
     "output_type": "stream",
     "text": [
      "52073\n",
      "52078\n"
     ]
    },
    {
     "data": {
      "text/html": [
       "<div>\n",
       "<table border=\"1\" class=\"dataframe\">\n",
       "  <thead>\n",
       "    <tr style=\"text-align: right;\">\n",
       "      <th></th>\n",
       "      <th>code</th>\n",
       "      <th>location</th>\n",
       "      <th>interlevel</th>\n",
       "      <th>original</th>\n",
       "    </tr>\n",
       "  </thead>\n",
       "  <tbody>\n",
       "    <tr>\n",
       "      <th>52073</th>\n",
       "      <td>130000000</td>\n",
       "      <td>NATIONAL CAPITAL REGION NCR</td>\n",
       "      <td>reg</td>\n",
       "      <td>True</td>\n",
       "    </tr>\n",
       "    <tr>\n",
       "      <th>52074</th>\n",
       "      <td>130000000</td>\n",
       "      <td>NCR</td>\n",
       "      <td>reg</td>\n",
       "      <td>False</td>\n",
       "    </tr>\n",
       "    <tr>\n",
       "      <th>52075</th>\n",
       "      <td>130000000</td>\n",
       "      <td>NATIONAL CAPITAL REGION</td>\n",
       "      <td>reg</td>\n",
       "      <td>False</td>\n",
       "    </tr>\n",
       "    <tr>\n",
       "      <th>52076</th>\n",
       "      <td>130000000</td>\n",
       "      <td>METRO MANILA</td>\n",
       "      <td>reg</td>\n",
       "      <td>False</td>\n",
       "    </tr>\n",
       "    <tr>\n",
       "      <th>52077</th>\n",
       "      <td>130000000</td>\n",
       "      <td>METROPOLITAN MANILA</td>\n",
       "      <td>reg</td>\n",
       "      <td>False</td>\n",
       "    </tr>\n",
       "  </tbody>\n",
       "</table>\n",
       "</div>"
      ],
      "text/plain": [
       "            code                     location interlevel original\n",
       "52073  130000000  NATIONAL CAPITAL REGION NCR        reg     True\n",
       "52074  130000000                          NCR        reg    False\n",
       "52075  130000000      NATIONAL CAPITAL REGION        reg    False\n",
       "52076  130000000                 METRO MANILA        reg    False\n",
       "52077  130000000          METROPOLITAN MANILA        reg    False"
      ]
     },
     "execution_count": 10,
     "metadata": {},
     "output_type": "execute_result"
    }
   ],
   "source": [
    "# remove districts and replace NCR region rows from reference file for now with cleaned up NCR rows\n",
    "\n",
    "psgc = psgc[psgc.interlevel <> 'dist'].reset_index(drop=True) #exclude districts\n",
    "psgc = psgc[psgc.code <> '130000000'].reset_index(drop=True) #exclude original ncr region rows\n",
    "print len(psgc)\n",
    "psgc = psgc.append(ncr,ignore_index=True) #append cleaned up ncr region rows\n",
    "print len(psgc)\n",
    "psgc.head()\n",
    "psgc[psgc.code == \"130000000\"]"
   ]
  },
  {
   "cell_type": "code",
   "execution_count": 11,
   "metadata": {
    "ExecuteTime": {
     "end_time": "2018-09-27T10:35:14.014206",
     "start_time": "2018-09-27T10:35:13.910338"
    },
    "collapsed": false
   },
   "outputs": [
    {
     "name": "stderr",
     "output_type": "stream",
     "text": [
      "/Users/piafaustino/anaconda/lib/python2.7/site-packages/ipykernel/__main__.py:4: UserWarning: This pattern has match groups. To actually get the groups, use str.extract.\n"
     ]
    },
    {
     "data": {
      "text/plain": [
       "7285    E\n",
       "7286    E\n",
       "7287    E\n",
       "7288    E\n",
       "7302    W\n",
       "Name: location, dtype: object"
      ]
     },
     "execution_count": 11,
     "metadata": {},
     "output_type": "execute_result"
    }
   ],
   "source": [
    "# add as aliases abbreviations of north, south, east, west. for example, northern samar will have an alias n. samar.\n",
    "\n",
    "nsew = re.compile(r\"^NORTH(ERN)? |^SOUTH(ERN)? |^EAST(ERN?)? |^WEST(ERN)? \")\n",
    "nsew_abbrev = psgc[psgc.location.str.contains(nsew)].location.str.split().str.get(0).str.slice(0,1)\n",
    "nsew_abbrev.head()"
   ]
  },
  {
   "cell_type": "code",
   "execution_count": 12,
   "metadata": {
    "ExecuteTime": {
     "end_time": "2018-09-27T10:35:14.122453",
     "start_time": "2018-09-27T10:35:14.017586"
    },
    "collapsed": false
   },
   "outputs": [
    {
     "name": "stderr",
     "output_type": "stream",
     "text": [
      "/Users/piafaustino/anaconda/lib/python2.7/site-packages/ipykernel/__main__.py:1: UserWarning: This pattern has match groups. To actually get the groups, use str.extract.\n",
      "  if __name__ == '__main__':\n"
     ]
    },
    {
     "data": {
      "text/html": [
       "<div>\n",
       "<table border=\"1\" class=\"dataframe\">\n",
       "  <thead>\n",
       "    <tr style=\"text-align: right;\">\n",
       "      <th></th>\n",
       "      <th>code</th>\n",
       "      <th>location</th>\n",
       "      <th>interlevel</th>\n",
       "      <th>original</th>\n",
       "    </tr>\n",
       "  </thead>\n",
       "  <tbody>\n",
       "    <tr>\n",
       "      <th>7285</th>\n",
       "      <td>030812001</td>\n",
       "      <td>EAST CALAGUIMAN</td>\n",
       "      <td>bgy</td>\n",
       "      <td>False</td>\n",
       "    </tr>\n",
       "    <tr>\n",
       "      <th>7286</th>\n",
       "      <td>030812001</td>\n",
       "      <td>EAST CALAGUIMAN POB.</td>\n",
       "      <td>bgy</td>\n",
       "      <td>True</td>\n",
       "    </tr>\n",
       "    <tr>\n",
       "      <th>7287</th>\n",
       "      <td>030812002</td>\n",
       "      <td>EAST DAANG BAGO POB.</td>\n",
       "      <td>bgy</td>\n",
       "      <td>True</td>\n",
       "    </tr>\n",
       "    <tr>\n",
       "      <th>7288</th>\n",
       "      <td>030812002</td>\n",
       "      <td>EAST DAANG BAGO</td>\n",
       "      <td>bgy</td>\n",
       "      <td>False</td>\n",
       "    </tr>\n",
       "    <tr>\n",
       "      <th>7302</th>\n",
       "      <td>030812014</td>\n",
       "      <td>WEST CALAGUIMAN POB.</td>\n",
       "      <td>bgy</td>\n",
       "      <td>True</td>\n",
       "    </tr>\n",
       "  </tbody>\n",
       "</table>\n",
       "</div>"
      ],
      "text/plain": [
       "           code              location interlevel original\n",
       "7285  030812001       EAST CALAGUIMAN        bgy    False\n",
       "7286  030812001  EAST CALAGUIMAN POB.        bgy     True\n",
       "7287  030812002  EAST DAANG BAGO POB.        bgy     True\n",
       "7288  030812002       EAST DAANG BAGO        bgy    False\n",
       "7302  030812014  WEST CALAGUIMAN POB.        bgy     True"
      ]
     },
     "execution_count": 12,
     "metadata": {},
     "output_type": "execute_result"
    }
   ],
   "source": [
    "nsew_locs = psgc[psgc.location.str.contains(nsew)]\n",
    "nsew_locs.head()"
   ]
  },
  {
   "cell_type": "code",
   "execution_count": 13,
   "metadata": {
    "ExecuteTime": {
     "end_time": "2018-09-27T10:35:14.487493",
     "start_time": "2018-09-27T10:35:14.126167"
    },
    "collapsed": false
   },
   "outputs": [
    {
     "name": "stderr",
     "output_type": "stream",
     "text": [
      "/Users/piafaustino/anaconda/lib/python2.7/site-packages/ipykernel/__main__.py:1: UserWarning: This pattern has match groups. To actually get the groups, use str.extract.\n",
      "  if __name__ == '__main__':\n"
     ]
    },
    {
     "data": {
      "text/html": [
       "<div>\n",
       "<table border=\"1\" class=\"dataframe\">\n",
       "  <thead>\n",
       "    <tr style=\"text-align: right;\">\n",
       "      <th></th>\n",
       "      <th>code</th>\n",
       "      <th>location</th>\n",
       "      <th>interlevel</th>\n",
       "      <th>original</th>\n",
       "    </tr>\n",
       "  </thead>\n",
       "  <tbody>\n",
       "    <tr>\n",
       "      <th>7285</th>\n",
       "      <td>030812001</td>\n",
       "      <td>E CALAGUIMAN</td>\n",
       "      <td>bgy</td>\n",
       "      <td>False</td>\n",
       "    </tr>\n",
       "    <tr>\n",
       "      <th>7286</th>\n",
       "      <td>030812001</td>\n",
       "      <td>E CALAGUIMAN POB.</td>\n",
       "      <td>bgy</td>\n",
       "      <td>False</td>\n",
       "    </tr>\n",
       "    <tr>\n",
       "      <th>7287</th>\n",
       "      <td>030812002</td>\n",
       "      <td>E DAANG BAGO POB.</td>\n",
       "      <td>bgy</td>\n",
       "      <td>False</td>\n",
       "    </tr>\n",
       "    <tr>\n",
       "      <th>7288</th>\n",
       "      <td>030812002</td>\n",
       "      <td>E DAANG BAGO</td>\n",
       "      <td>bgy</td>\n",
       "      <td>False</td>\n",
       "    </tr>\n",
       "    <tr>\n",
       "      <th>7302</th>\n",
       "      <td>030812014</td>\n",
       "      <td>W CALAGUIMAN POB.</td>\n",
       "      <td>bgy</td>\n",
       "      <td>False</td>\n",
       "    </tr>\n",
       "  </tbody>\n",
       "</table>\n",
       "</div>"
      ],
      "text/plain": [
       "           code           location interlevel original\n",
       "7285  030812001       E CALAGUIMAN        bgy    False\n",
       "7286  030812001  E CALAGUIMAN POB.        bgy    False\n",
       "7287  030812002  E DAANG BAGO POB.        bgy    False\n",
       "7288  030812002       E DAANG BAGO        bgy    False\n",
       "7302  030812014  W CALAGUIMAN POB.        bgy    False"
      ]
     },
     "execution_count": 13,
     "metadata": {},
     "output_type": "execute_result"
    }
   ],
   "source": [
    "nsew_locs.loc[:,'location'] = nsew_abbrev.str.cat(psgc[psgc.location.str.contains(nsew)].location.str.replace(\"^NORTH(ERN)? |^SOUTH(ERN)? |^EAST(ERN?)? |^WEST(ERN)? \",\"\").str.strip(),sep=\" \")\n",
    "nsew_locs.loc[:,\"original\"] = False\n",
    "nsew_locs.head()"
   ]
  },
  {
   "cell_type": "code",
   "execution_count": 14,
   "metadata": {
    "ExecuteTime": {
     "end_time": "2018-09-27T10:35:14.524156",
     "start_time": "2018-09-27T10:35:14.492666"
    },
    "collapsed": false
   },
   "outputs": [
    {
     "data": {
      "text/html": [
       "<div>\n",
       "<table border=\"1\" class=\"dataframe\">\n",
       "  <thead>\n",
       "    <tr style=\"text-align: right;\">\n",
       "      <th></th>\n",
       "      <th>code</th>\n",
       "      <th>location</th>\n",
       "      <th>interlevel</th>\n",
       "      <th>original</th>\n",
       "    </tr>\n",
       "  </thead>\n",
       "  <tbody>\n",
       "    <tr>\n",
       "      <th>0</th>\n",
       "      <td>010000000</td>\n",
       "      <td>REGION I ILOCOS REGION</td>\n",
       "      <td>reg</td>\n",
       "      <td>True</td>\n",
       "    </tr>\n",
       "    <tr>\n",
       "      <th>1</th>\n",
       "      <td>010000000</td>\n",
       "      <td>ILOCOS REGION</td>\n",
       "      <td>reg</td>\n",
       "      <td>False</td>\n",
       "    </tr>\n",
       "    <tr>\n",
       "      <th>2</th>\n",
       "      <td>010000000</td>\n",
       "      <td>REGION 1</td>\n",
       "      <td>reg</td>\n",
       "      <td>False</td>\n",
       "    </tr>\n",
       "    <tr>\n",
       "      <th>3</th>\n",
       "      <td>010000000</td>\n",
       "      <td>REGION I</td>\n",
       "      <td>reg</td>\n",
       "      <td>False</td>\n",
       "    </tr>\n",
       "    <tr>\n",
       "      <th>4</th>\n",
       "      <td>012800000</td>\n",
       "      <td>ILOCOS NORTE</td>\n",
       "      <td>prov</td>\n",
       "      <td>True</td>\n",
       "    </tr>\n",
       "  </tbody>\n",
       "</table>\n",
       "</div>"
      ],
      "text/plain": [
       "        code                location interlevel original\n",
       "0  010000000  REGION I ILOCOS REGION        reg     True\n",
       "1  010000000           ILOCOS REGION        reg    False\n",
       "2  010000000                REGION 1        reg    False\n",
       "3  010000000                REGION I        reg    False\n",
       "4  012800000            ILOCOS NORTE       prov     True"
      ]
     },
     "execution_count": 14,
     "metadata": {},
     "output_type": "execute_result"
    }
   ],
   "source": [
    "psgc = pd.concat([psgc, nsew_locs],ignore_index=True)\n",
    "psgc.head()"
   ]
  },
  {
   "cell_type": "code",
   "execution_count": 15,
   "metadata": {
    "ExecuteTime": {
     "end_time": "2018-09-27T10:35:14.540479",
     "start_time": "2018-09-27T10:35:14.527496"
    },
    "collapsed": false
   },
   "outputs": [],
   "source": [
    "#fill interlevels for isabela, cotabato\n",
    "\n",
    "psgc.loc[psgc.interlevel.isnull(),\"interlevel\"] = u\"municity\""
   ]
  },
  {
   "cell_type": "markdown",
   "metadata": {},
   "source": [
    "What we need is reference file that contains the higher-level administrative territories in separate columns. This is so we can create a single \"master string\" that we will use for matching. We'll try this instead of matching each component individually.\n",
    "\n",
    "First, create a dictionary of the rankings of various administrative levels."
   ]
  },
  {
   "cell_type": "code",
   "execution_count": 16,
   "metadata": {
    "ExecuteTime": {
     "end_time": "2018-09-27T10:35:14.633766",
     "start_time": "2018-09-27T10:35:14.543918"
    },
    "collapsed": false
   },
   "outputs": [],
   "source": [
    "adm_rank= {u'reg':1,u'prov':2,u'dist':2,u'city':3,u'mun':3,u'municity':3,u'submun':3,u'bgy':4}\n",
    "adm_rank_list = sorted(adm_rank, key=lambda k: adm_rank[k])\n",
    "adm_rank_list\n",
    "psgc['adm_rank'] = psgc.interlevel.map(adm_rank)"
   ]
  },
  {
   "cell_type": "code",
   "execution_count": 17,
   "metadata": {
    "ExecuteTime": {
     "end_time": "2018-09-27T10:35:14.668670",
     "start_time": "2018-09-27T10:35:14.639635"
    },
    "collapsed": false
   },
   "outputs": [
    {
     "data": {
      "text/plain": [
       "bgy         50155\n",
       "municity     1948\n",
       "prov           91\n",
       "reg            66\n",
       "submun         14\n",
       "Name: interlevel, dtype: int64"
      ]
     },
     "execution_count": 17,
     "metadata": {},
     "output_type": "execute_result"
    }
   ],
   "source": [
    "psgc.interlevel.value_counts()"
   ]
  },
  {
   "cell_type": "markdown",
   "metadata": {
    "ExecuteTime": {
     "end_time": "2018-09-06T09:09:13.127767",
     "start_time": "2018-09-06T09:09:13.117986"
    }
   },
   "source": [
    "We'll apply this later as a separate column."
   ]
  },
  {
   "cell_type": "markdown",
   "metadata": {},
   "source": [
    "Create a function that will add to our dataframe columns with the PSGC codes\n",
    "of each location's higher level administrative territories. We'll then use this to fill the name columns \n",
    "with their corresponding place names.\n"
   ]
  },
  {
   "cell_type": "code",
   "execution_count": 18,
   "metadata": {
    "ExecuteTime": {
     "end_time": "2018-09-27T10:35:14.715988",
     "start_time": "2018-09-27T10:35:14.678373"
    },
    "collapsed": false
   },
   "outputs": [],
   "source": [
    "def fill_higher_level_codes(df):\n",
    "        \n",
    "    # Below is a dictionary of administrative hierarchy levels ranks and the stop string positions inside the PSG code.\n",
    "    \n",
    "    adm_rank = {1:2,\n",
    "                2:4,\n",
    "                3:6,\n",
    "                4:9} \n",
    "    \n",
    "    # Loop through each administrative level. \n",
    "    # Create additional columns for each administrative level with the suffixes _code and _name.\n",
    "    # Fill each column with the names and codes of the higher level administrative territories in which\n",
    "    # a place is located.\n",
    "    \n",
    "    for adm_level in adm_rank.keys():\n",
    "        \n",
    "        #create code cols        \n",
    "        adm_code_col = u\"adm\"+str(adm_level)+u\"_code\"\n",
    "        \n",
    "        df[adm_code_col] = None\n",
    "        \n",
    "        #find the administrative levels that are higher than the current one\n",
    "        \n",
    "        higher_adm_levels = [l for l in adm_rank.keys() if l <= adm_level]\n",
    "                \n",
    "        for higher_level in higher_adm_levels:\n",
    "            \n",
    "            #higher adm level colum names\n",
    "            \n",
    "            higher_level_code_col = u\"adm\"+str(higher_level)+u\"_code\"\n",
    "            \n",
    "            #stop position of PSG code for this adm level\n",
    "            \n",
    "            stop_position = adm_rank[higher_level] \n",
    "            \n",
    "            #derive higher level admin codes for each row\n",
    "            \n",
    "            codes = df.loc[df.adm_rank >= higher_level,\"code\"].str.slice(start=0,stop=stop_position).str.pad(9,side=\"right\",fillchar=\"0\").str.encode(\"utf-8\")           \n",
    "            df.loc[df.adm_rank >= higher_level,higher_level_code_col] = codes\n",
    "            \n",
    "            #derive higher level admin names for each row\n",
    "            \n",
    "            higher_level_name_col = u\"adm\"+str(higher_level)+u\"_name\"\n",
    "\n",
    "    return df"
   ]
  },
  {
   "cell_type": "code",
   "execution_count": 19,
   "metadata": {
    "ExecuteTime": {
     "end_time": "2018-09-27T10:35:15.983452",
     "start_time": "2018-09-27T10:35:14.718057"
    },
    "collapsed": false
   },
   "outputs": [
    {
     "data": {
      "text/html": [
       "<div>\n",
       "<table border=\"1\" class=\"dataframe\">\n",
       "  <thead>\n",
       "    <tr style=\"text-align: right;\">\n",
       "      <th></th>\n",
       "      <th>code</th>\n",
       "      <th>location</th>\n",
       "      <th>interlevel</th>\n",
       "      <th>original</th>\n",
       "      <th>adm_rank</th>\n",
       "      <th>adm1_code</th>\n",
       "      <th>adm2_code</th>\n",
       "      <th>adm3_code</th>\n",
       "      <th>adm4_code</th>\n",
       "    </tr>\n",
       "  </thead>\n",
       "  <tbody>\n",
       "    <tr>\n",
       "      <th>0</th>\n",
       "      <td>010000000</td>\n",
       "      <td>REGION I ILOCOS REGION</td>\n",
       "      <td>reg</td>\n",
       "      <td>True</td>\n",
       "      <td>1</td>\n",
       "      <td>010000000</td>\n",
       "      <td>None</td>\n",
       "      <td>None</td>\n",
       "      <td>None</td>\n",
       "    </tr>\n",
       "    <tr>\n",
       "      <th>1</th>\n",
       "      <td>010000000</td>\n",
       "      <td>ILOCOS REGION</td>\n",
       "      <td>reg</td>\n",
       "      <td>False</td>\n",
       "      <td>1</td>\n",
       "      <td>010000000</td>\n",
       "      <td>None</td>\n",
       "      <td>None</td>\n",
       "      <td>None</td>\n",
       "    </tr>\n",
       "    <tr>\n",
       "      <th>2</th>\n",
       "      <td>010000000</td>\n",
       "      <td>REGION 1</td>\n",
       "      <td>reg</td>\n",
       "      <td>False</td>\n",
       "      <td>1</td>\n",
       "      <td>010000000</td>\n",
       "      <td>None</td>\n",
       "      <td>None</td>\n",
       "      <td>None</td>\n",
       "    </tr>\n",
       "    <tr>\n",
       "      <th>3</th>\n",
       "      <td>010000000</td>\n",
       "      <td>REGION I</td>\n",
       "      <td>reg</td>\n",
       "      <td>False</td>\n",
       "      <td>1</td>\n",
       "      <td>010000000</td>\n",
       "      <td>None</td>\n",
       "      <td>None</td>\n",
       "      <td>None</td>\n",
       "    </tr>\n",
       "    <tr>\n",
       "      <th>4</th>\n",
       "      <td>012800000</td>\n",
       "      <td>ILOCOS NORTE</td>\n",
       "      <td>prov</td>\n",
       "      <td>True</td>\n",
       "      <td>2</td>\n",
       "      <td>010000000</td>\n",
       "      <td>012800000</td>\n",
       "      <td>None</td>\n",
       "      <td>None</td>\n",
       "    </tr>\n",
       "    <tr>\n",
       "      <th>5</th>\n",
       "      <td>012801000</td>\n",
       "      <td>ADAMS</td>\n",
       "      <td>municity</td>\n",
       "      <td>True</td>\n",
       "      <td>3</td>\n",
       "      <td>010000000</td>\n",
       "      <td>012800000</td>\n",
       "      <td>012801000</td>\n",
       "      <td>None</td>\n",
       "    </tr>\n",
       "    <tr>\n",
       "      <th>6</th>\n",
       "      <td>012801001</td>\n",
       "      <td>ADAMS POB.</td>\n",
       "      <td>bgy</td>\n",
       "      <td>True</td>\n",
       "      <td>4</td>\n",
       "      <td>010000000</td>\n",
       "      <td>012800000</td>\n",
       "      <td>012801000</td>\n",
       "      <td>012801001</td>\n",
       "    </tr>\n",
       "    <tr>\n",
       "      <th>7</th>\n",
       "      <td>012801001</td>\n",
       "      <td>ADAMS</td>\n",
       "      <td>bgy</td>\n",
       "      <td>False</td>\n",
       "      <td>4</td>\n",
       "      <td>010000000</td>\n",
       "      <td>012800000</td>\n",
       "      <td>012801000</td>\n",
       "      <td>012801001</td>\n",
       "    </tr>\n",
       "    <tr>\n",
       "      <th>8</th>\n",
       "      <td>012802000</td>\n",
       "      <td>BACARRA</td>\n",
       "      <td>municity</td>\n",
       "      <td>True</td>\n",
       "      <td>3</td>\n",
       "      <td>010000000</td>\n",
       "      <td>012800000</td>\n",
       "      <td>012802000</td>\n",
       "      <td>None</td>\n",
       "    </tr>\n",
       "    <tr>\n",
       "      <th>9</th>\n",
       "      <td>012802001</td>\n",
       "      <td>BANI</td>\n",
       "      <td>bgy</td>\n",
       "      <td>True</td>\n",
       "      <td>4</td>\n",
       "      <td>010000000</td>\n",
       "      <td>012800000</td>\n",
       "      <td>012802000</td>\n",
       "      <td>012802001</td>\n",
       "    </tr>\n",
       "  </tbody>\n",
       "</table>\n",
       "</div>"
      ],
      "text/plain": [
       "        code                location interlevel original  adm_rank  adm1_code  \\\n",
       "0  010000000  REGION I ILOCOS REGION        reg     True         1  010000000   \n",
       "1  010000000           ILOCOS REGION        reg    False         1  010000000   \n",
       "2  010000000                REGION 1        reg    False         1  010000000   \n",
       "3  010000000                REGION I        reg    False         1  010000000   \n",
       "4  012800000            ILOCOS NORTE       prov     True         2  010000000   \n",
       "5  012801000                   ADAMS   municity     True         3  010000000   \n",
       "6  012801001              ADAMS POB.        bgy     True         4  010000000   \n",
       "7  012801001                   ADAMS        bgy    False         4  010000000   \n",
       "8  012802000                 BACARRA   municity     True         3  010000000   \n",
       "9  012802001                    BANI        bgy     True         4  010000000   \n",
       "\n",
       "   adm2_code  adm3_code  adm4_code  \n",
       "0       None       None       None  \n",
       "1       None       None       None  \n",
       "2       None       None       None  \n",
       "3       None       None       None  \n",
       "4  012800000       None       None  \n",
       "5  012800000  012801000       None  \n",
       "6  012800000  012801000  012801001  \n",
       "7  012800000  012801000  012801001  \n",
       "8  012800000  012802000       None  \n",
       "9  012800000  012802000  012802001  "
      ]
     },
     "execution_count": 19,
     "metadata": {},
     "output_type": "execute_result"
    }
   ],
   "source": [
    "psgc_unpivot = fill_higher_level_codes(psgc).dropna(how=\"all\")\n",
    "psgc_unpivot.head(10)"
   ]
  },
  {
   "cell_type": "code",
   "execution_count": 20,
   "metadata": {
    "ExecuteTime": {
     "end_time": "2018-09-27T10:35:16.025471",
     "start_time": "2018-09-27T10:35:15.987763"
    },
    "collapsed": false
   },
   "outputs": [
    {
     "data": {
      "text/html": [
       "<div>\n",
       "<table border=\"1\" class=\"dataframe\">\n",
       "  <thead>\n",
       "    <tr style=\"text-align: right;\">\n",
       "      <th></th>\n",
       "      <th>join_code</th>\n",
       "      <th>location</th>\n",
       "      <th>original</th>\n",
       "    </tr>\n",
       "  </thead>\n",
       "  <tbody>\n",
       "    <tr>\n",
       "      <th>0</th>\n",
       "      <td>010000000</td>\n",
       "      <td>REGION I ILOCOS REGION</td>\n",
       "      <td>True</td>\n",
       "    </tr>\n",
       "    <tr>\n",
       "      <th>1</th>\n",
       "      <td>010000000</td>\n",
       "      <td>ILOCOS REGION</td>\n",
       "      <td>False</td>\n",
       "    </tr>\n",
       "    <tr>\n",
       "      <th>2</th>\n",
       "      <td>010000000</td>\n",
       "      <td>REGION 1</td>\n",
       "      <td>False</td>\n",
       "    </tr>\n",
       "    <tr>\n",
       "      <th>3</th>\n",
       "      <td>010000000</td>\n",
       "      <td>REGION I</td>\n",
       "      <td>False</td>\n",
       "    </tr>\n",
       "    <tr>\n",
       "      <th>4</th>\n",
       "      <td>012800000</td>\n",
       "      <td>ILOCOS NORTE</td>\n",
       "      <td>True</td>\n",
       "    </tr>\n",
       "  </tbody>\n",
       "</table>\n",
       "</div>"
      ],
      "text/plain": [
       "   join_code                location original\n",
       "0  010000000  REGION I ILOCOS REGION     True\n",
       "1  010000000           ILOCOS REGION    False\n",
       "2  010000000                REGION 1    False\n",
       "3  010000000                REGION I    False\n",
       "4  012800000            ILOCOS NORTE     True"
      ]
     },
     "execution_count": 20,
     "metadata": {},
     "output_type": "execute_result"
    }
   ],
   "source": [
    "all_loc_names = psgc_unpivot[['code','location','original']].rename(columns={'code':'join_code'})\n",
    "all_loc_names.head()"
   ]
  },
  {
   "cell_type": "markdown",
   "metadata": {},
   "source": [
    "Add Region names."
   ]
  },
  {
   "cell_type": "code",
   "execution_count": 21,
   "metadata": {
    "ExecuteTime": {
     "end_time": "2018-09-27T10:35:16.401986",
     "start_time": "2018-09-27T10:35:16.029861"
    },
    "collapsed": false
   },
   "outputs": [
    {
     "data": {
      "text/html": [
       "<div>\n",
       "<table border=\"1\" class=\"dataframe\">\n",
       "  <thead>\n",
       "    <tr style=\"text-align: right;\">\n",
       "      <th></th>\n",
       "      <th>code</th>\n",
       "      <th>location</th>\n",
       "      <th>interlevel</th>\n",
       "      <th>original</th>\n",
       "      <th>adm_rank</th>\n",
       "      <th>adm1_code</th>\n",
       "      <th>adm2_code</th>\n",
       "      <th>adm3_code</th>\n",
       "      <th>adm4_code</th>\n",
       "      <th>adm1_name</th>\n",
       "      <th>adm1_is_orig</th>\n",
       "    </tr>\n",
       "  </thead>\n",
       "  <tbody>\n",
       "    <tr>\n",
       "      <th>0</th>\n",
       "      <td>010000000</td>\n",
       "      <td>REGION I ILOCOS REGION</td>\n",
       "      <td>reg</td>\n",
       "      <td>True</td>\n",
       "      <td>1</td>\n",
       "      <td>010000000</td>\n",
       "      <td>None</td>\n",
       "      <td>None</td>\n",
       "      <td>None</td>\n",
       "      <td>REGION I ILOCOS REGION</td>\n",
       "      <td>True</td>\n",
       "    </tr>\n",
       "    <tr>\n",
       "      <th>1</th>\n",
       "      <td>010000000</td>\n",
       "      <td>REGION I ILOCOS REGION</td>\n",
       "      <td>reg</td>\n",
       "      <td>True</td>\n",
       "      <td>1</td>\n",
       "      <td>010000000</td>\n",
       "      <td>None</td>\n",
       "      <td>None</td>\n",
       "      <td>None</td>\n",
       "      <td>ILOCOS REGION</td>\n",
       "      <td>False</td>\n",
       "    </tr>\n",
       "    <tr>\n",
       "      <th>2</th>\n",
       "      <td>010000000</td>\n",
       "      <td>REGION I ILOCOS REGION</td>\n",
       "      <td>reg</td>\n",
       "      <td>True</td>\n",
       "      <td>1</td>\n",
       "      <td>010000000</td>\n",
       "      <td>None</td>\n",
       "      <td>None</td>\n",
       "      <td>None</td>\n",
       "      <td>REGION 1</td>\n",
       "      <td>False</td>\n",
       "    </tr>\n",
       "    <tr>\n",
       "      <th>3</th>\n",
       "      <td>010000000</td>\n",
       "      <td>REGION I ILOCOS REGION</td>\n",
       "      <td>reg</td>\n",
       "      <td>True</td>\n",
       "      <td>1</td>\n",
       "      <td>010000000</td>\n",
       "      <td>None</td>\n",
       "      <td>None</td>\n",
       "      <td>None</td>\n",
       "      <td>REGION I</td>\n",
       "      <td>False</td>\n",
       "    </tr>\n",
       "    <tr>\n",
       "      <th>4</th>\n",
       "      <td>010000000</td>\n",
       "      <td>ILOCOS REGION</td>\n",
       "      <td>reg</td>\n",
       "      <td>False</td>\n",
       "      <td>1</td>\n",
       "      <td>010000000</td>\n",
       "      <td>None</td>\n",
       "      <td>None</td>\n",
       "      <td>None</td>\n",
       "      <td>REGION I ILOCOS REGION</td>\n",
       "      <td>True</td>\n",
       "    </tr>\n",
       "  </tbody>\n",
       "</table>\n",
       "</div>"
      ],
      "text/plain": [
       "        code                location interlevel original  adm_rank  adm1_code  \\\n",
       "0  010000000  REGION I ILOCOS REGION        reg     True         1  010000000   \n",
       "1  010000000  REGION I ILOCOS REGION        reg     True         1  010000000   \n",
       "2  010000000  REGION I ILOCOS REGION        reg     True         1  010000000   \n",
       "3  010000000  REGION I ILOCOS REGION        reg     True         1  010000000   \n",
       "4  010000000           ILOCOS REGION        reg    False         1  010000000   \n",
       "\n",
       "  adm2_code adm3_code adm4_code               adm1_name adm1_is_orig  \n",
       "0      None      None      None  REGION I ILOCOS REGION         True  \n",
       "1      None      None      None           ILOCOS REGION        False  \n",
       "2      None      None      None                REGION 1        False  \n",
       "3      None      None      None                REGION I        False  \n",
       "4      None      None      None  REGION I ILOCOS REGION         True  "
      ]
     },
     "execution_count": 21,
     "metadata": {},
     "output_type": "execute_result"
    }
   ],
   "source": [
    "psgc_unpivot = psgc_unpivot.merge(all_loc_names.rename(columns={'location':'adm1_name','original':'adm1_is_orig'}),how=\"left\",left_on=\"adm1_code\",right_on=\"join_code\").drop('join_code',axis=1)\n",
    "psgc_unpivot.head()"
   ]
  },
  {
   "cell_type": "markdown",
   "metadata": {},
   "source": [
    "Add Prov names."
   ]
  },
  {
   "cell_type": "code",
   "execution_count": 22,
   "metadata": {
    "ExecuteTime": {
     "end_time": "2018-09-27T10:35:16.676032",
     "start_time": "2018-09-27T10:35:16.405665"
    },
    "collapsed": false
   },
   "outputs": [
    {
     "data": {
      "text/html": [
       "<div>\n",
       "<table border=\"1\" class=\"dataframe\">\n",
       "  <thead>\n",
       "    <tr style=\"text-align: right;\">\n",
       "      <th></th>\n",
       "      <th>code</th>\n",
       "      <th>location</th>\n",
       "      <th>interlevel</th>\n",
       "      <th>original</th>\n",
       "      <th>adm_rank</th>\n",
       "      <th>adm1_code</th>\n",
       "      <th>adm2_code</th>\n",
       "      <th>adm3_code</th>\n",
       "      <th>adm4_code</th>\n",
       "      <th>adm1_name</th>\n",
       "      <th>adm1_is_orig</th>\n",
       "      <th>adm2_name</th>\n",
       "      <th>adm2_is_orig</th>\n",
       "    </tr>\n",
       "  </thead>\n",
       "  <tbody>\n",
       "    <tr>\n",
       "      <th>0</th>\n",
       "      <td>010000000</td>\n",
       "      <td>REGION I ILOCOS REGION</td>\n",
       "      <td>reg</td>\n",
       "      <td>True</td>\n",
       "      <td>1</td>\n",
       "      <td>010000000</td>\n",
       "      <td>None</td>\n",
       "      <td>None</td>\n",
       "      <td>None</td>\n",
       "      <td>REGION I ILOCOS REGION</td>\n",
       "      <td>True</td>\n",
       "      <td>NaN</td>\n",
       "      <td>NaN</td>\n",
       "    </tr>\n",
       "    <tr>\n",
       "      <th>1</th>\n",
       "      <td>010000000</td>\n",
       "      <td>REGION I ILOCOS REGION</td>\n",
       "      <td>reg</td>\n",
       "      <td>True</td>\n",
       "      <td>1</td>\n",
       "      <td>010000000</td>\n",
       "      <td>None</td>\n",
       "      <td>None</td>\n",
       "      <td>None</td>\n",
       "      <td>ILOCOS REGION</td>\n",
       "      <td>False</td>\n",
       "      <td>NaN</td>\n",
       "      <td>NaN</td>\n",
       "    </tr>\n",
       "    <tr>\n",
       "      <th>2</th>\n",
       "      <td>010000000</td>\n",
       "      <td>REGION I ILOCOS REGION</td>\n",
       "      <td>reg</td>\n",
       "      <td>True</td>\n",
       "      <td>1</td>\n",
       "      <td>010000000</td>\n",
       "      <td>None</td>\n",
       "      <td>None</td>\n",
       "      <td>None</td>\n",
       "      <td>REGION 1</td>\n",
       "      <td>False</td>\n",
       "      <td>NaN</td>\n",
       "      <td>NaN</td>\n",
       "    </tr>\n",
       "    <tr>\n",
       "      <th>3</th>\n",
       "      <td>010000000</td>\n",
       "      <td>REGION I ILOCOS REGION</td>\n",
       "      <td>reg</td>\n",
       "      <td>True</td>\n",
       "      <td>1</td>\n",
       "      <td>010000000</td>\n",
       "      <td>None</td>\n",
       "      <td>None</td>\n",
       "      <td>None</td>\n",
       "      <td>REGION I</td>\n",
       "      <td>False</td>\n",
       "      <td>NaN</td>\n",
       "      <td>NaN</td>\n",
       "    </tr>\n",
       "    <tr>\n",
       "      <th>4</th>\n",
       "      <td>010000000</td>\n",
       "      <td>ILOCOS REGION</td>\n",
       "      <td>reg</td>\n",
       "      <td>False</td>\n",
       "      <td>1</td>\n",
       "      <td>010000000</td>\n",
       "      <td>None</td>\n",
       "      <td>None</td>\n",
       "      <td>None</td>\n",
       "      <td>REGION I ILOCOS REGION</td>\n",
       "      <td>True</td>\n",
       "      <td>NaN</td>\n",
       "      <td>NaN</td>\n",
       "    </tr>\n",
       "  </tbody>\n",
       "</table>\n",
       "</div>"
      ],
      "text/plain": [
       "        code                location interlevel original  adm_rank  adm1_code  \\\n",
       "0  010000000  REGION I ILOCOS REGION        reg     True         1  010000000   \n",
       "1  010000000  REGION I ILOCOS REGION        reg     True         1  010000000   \n",
       "2  010000000  REGION I ILOCOS REGION        reg     True         1  010000000   \n",
       "3  010000000  REGION I ILOCOS REGION        reg     True         1  010000000   \n",
       "4  010000000           ILOCOS REGION        reg    False         1  010000000   \n",
       "\n",
       "  adm2_code adm3_code adm4_code               adm1_name adm1_is_orig  \\\n",
       "0      None      None      None  REGION I ILOCOS REGION         True   \n",
       "1      None      None      None           ILOCOS REGION        False   \n",
       "2      None      None      None                REGION 1        False   \n",
       "3      None      None      None                REGION I        False   \n",
       "4      None      None      None  REGION I ILOCOS REGION         True   \n",
       "\n",
       "  adm2_name adm2_is_orig  \n",
       "0       NaN          NaN  \n",
       "1       NaN          NaN  \n",
       "2       NaN          NaN  \n",
       "3       NaN          NaN  \n",
       "4       NaN          NaN  "
      ]
     },
     "execution_count": 22,
     "metadata": {},
     "output_type": "execute_result"
    }
   ],
   "source": [
    "psgc_unpivot = psgc_unpivot.merge(all_loc_names.rename(columns={'location':'adm2_name','original':'adm2_is_orig'}),how=\"left\",left_on=\"adm2_code\",right_on=\"join_code\").drop('join_code',axis=1)\n",
    "psgc_unpivot.head()"
   ]
  },
  {
   "cell_type": "markdown",
   "metadata": {},
   "source": [
    "Add MuniCity names."
   ]
  },
  {
   "cell_type": "code",
   "execution_count": 23,
   "metadata": {
    "ExecuteTime": {
     "end_time": "2018-09-27T10:35:17.259611",
     "start_time": "2018-09-27T10:35:16.680223"
    },
    "collapsed": false
   },
   "outputs": [
    {
     "data": {
      "text/html": [
       "<div>\n",
       "<table border=\"1\" class=\"dataframe\">\n",
       "  <thead>\n",
       "    <tr style=\"text-align: right;\">\n",
       "      <th></th>\n",
       "      <th>code</th>\n",
       "      <th>location</th>\n",
       "      <th>interlevel</th>\n",
       "      <th>original</th>\n",
       "      <th>adm_rank</th>\n",
       "      <th>adm1_code</th>\n",
       "      <th>adm2_code</th>\n",
       "      <th>adm3_code</th>\n",
       "      <th>adm4_code</th>\n",
       "      <th>adm1_name</th>\n",
       "      <th>adm1_is_orig</th>\n",
       "      <th>adm2_name</th>\n",
       "      <th>adm2_is_orig</th>\n",
       "      <th>adm3_name</th>\n",
       "      <th>adm3_is_orig</th>\n",
       "    </tr>\n",
       "  </thead>\n",
       "  <tbody>\n",
       "    <tr>\n",
       "      <th>0</th>\n",
       "      <td>010000000</td>\n",
       "      <td>REGION I ILOCOS REGION</td>\n",
       "      <td>reg</td>\n",
       "      <td>True</td>\n",
       "      <td>1</td>\n",
       "      <td>010000000</td>\n",
       "      <td>None</td>\n",
       "      <td>None</td>\n",
       "      <td>None</td>\n",
       "      <td>REGION I ILOCOS REGION</td>\n",
       "      <td>True</td>\n",
       "      <td>NaN</td>\n",
       "      <td>NaN</td>\n",
       "      <td>NaN</td>\n",
       "      <td>NaN</td>\n",
       "    </tr>\n",
       "    <tr>\n",
       "      <th>1</th>\n",
       "      <td>010000000</td>\n",
       "      <td>REGION I ILOCOS REGION</td>\n",
       "      <td>reg</td>\n",
       "      <td>True</td>\n",
       "      <td>1</td>\n",
       "      <td>010000000</td>\n",
       "      <td>None</td>\n",
       "      <td>None</td>\n",
       "      <td>None</td>\n",
       "      <td>ILOCOS REGION</td>\n",
       "      <td>False</td>\n",
       "      <td>NaN</td>\n",
       "      <td>NaN</td>\n",
       "      <td>NaN</td>\n",
       "      <td>NaN</td>\n",
       "    </tr>\n",
       "    <tr>\n",
       "      <th>2</th>\n",
       "      <td>010000000</td>\n",
       "      <td>REGION I ILOCOS REGION</td>\n",
       "      <td>reg</td>\n",
       "      <td>True</td>\n",
       "      <td>1</td>\n",
       "      <td>010000000</td>\n",
       "      <td>None</td>\n",
       "      <td>None</td>\n",
       "      <td>None</td>\n",
       "      <td>REGION 1</td>\n",
       "      <td>False</td>\n",
       "      <td>NaN</td>\n",
       "      <td>NaN</td>\n",
       "      <td>NaN</td>\n",
       "      <td>NaN</td>\n",
       "    </tr>\n",
       "    <tr>\n",
       "      <th>3</th>\n",
       "      <td>010000000</td>\n",
       "      <td>REGION I ILOCOS REGION</td>\n",
       "      <td>reg</td>\n",
       "      <td>True</td>\n",
       "      <td>1</td>\n",
       "      <td>010000000</td>\n",
       "      <td>None</td>\n",
       "      <td>None</td>\n",
       "      <td>None</td>\n",
       "      <td>REGION I</td>\n",
       "      <td>False</td>\n",
       "      <td>NaN</td>\n",
       "      <td>NaN</td>\n",
       "      <td>NaN</td>\n",
       "      <td>NaN</td>\n",
       "    </tr>\n",
       "    <tr>\n",
       "      <th>4</th>\n",
       "      <td>010000000</td>\n",
       "      <td>ILOCOS REGION</td>\n",
       "      <td>reg</td>\n",
       "      <td>False</td>\n",
       "      <td>1</td>\n",
       "      <td>010000000</td>\n",
       "      <td>None</td>\n",
       "      <td>None</td>\n",
       "      <td>None</td>\n",
       "      <td>REGION I ILOCOS REGION</td>\n",
       "      <td>True</td>\n",
       "      <td>NaN</td>\n",
       "      <td>NaN</td>\n",
       "      <td>NaN</td>\n",
       "      <td>NaN</td>\n",
       "    </tr>\n",
       "  </tbody>\n",
       "</table>\n",
       "</div>"
      ],
      "text/plain": [
       "        code                location interlevel original  adm_rank  adm1_code  \\\n",
       "0  010000000  REGION I ILOCOS REGION        reg     True         1  010000000   \n",
       "1  010000000  REGION I ILOCOS REGION        reg     True         1  010000000   \n",
       "2  010000000  REGION I ILOCOS REGION        reg     True         1  010000000   \n",
       "3  010000000  REGION I ILOCOS REGION        reg     True         1  010000000   \n",
       "4  010000000           ILOCOS REGION        reg    False         1  010000000   \n",
       "\n",
       "  adm2_code adm3_code adm4_code               adm1_name adm1_is_orig  \\\n",
       "0      None      None      None  REGION I ILOCOS REGION         True   \n",
       "1      None      None      None           ILOCOS REGION        False   \n",
       "2      None      None      None                REGION 1        False   \n",
       "3      None      None      None                REGION I        False   \n",
       "4      None      None      None  REGION I ILOCOS REGION         True   \n",
       "\n",
       "  adm2_name adm2_is_orig adm3_name adm3_is_orig  \n",
       "0       NaN          NaN       NaN          NaN  \n",
       "1       NaN          NaN       NaN          NaN  \n",
       "2       NaN          NaN       NaN          NaN  \n",
       "3       NaN          NaN       NaN          NaN  \n",
       "4       NaN          NaN       NaN          NaN  "
      ]
     },
     "execution_count": 23,
     "metadata": {},
     "output_type": "execute_result"
    }
   ],
   "source": [
    "psgc_unpivot = psgc_unpivot.merge(all_loc_names.rename(columns={'location':'adm3_name','original':'adm3_is_orig'}),how=\"left\",left_on=\"adm3_code\",right_on=\"join_code\").drop('join_code',axis=1)\n",
    "psgc_unpivot.head()"
   ]
  },
  {
   "cell_type": "markdown",
   "metadata": {},
   "source": [
    "Add Barangay names."
   ]
  },
  {
   "cell_type": "code",
   "execution_count": 24,
   "metadata": {
    "ExecuteTime": {
     "end_time": "2018-09-27T10:35:17.811605",
     "start_time": "2018-09-27T10:35:17.261926"
    },
    "collapsed": false
   },
   "outputs": [
    {
     "data": {
      "text/html": [
       "<div>\n",
       "<table border=\"1\" class=\"dataframe\">\n",
       "  <thead>\n",
       "    <tr style=\"text-align: right;\">\n",
       "      <th></th>\n",
       "      <th>code</th>\n",
       "      <th>location</th>\n",
       "      <th>interlevel</th>\n",
       "      <th>original</th>\n",
       "      <th>adm_rank</th>\n",
       "      <th>adm1_code</th>\n",
       "      <th>adm2_code</th>\n",
       "      <th>adm3_code</th>\n",
       "      <th>adm4_code</th>\n",
       "      <th>adm1_name</th>\n",
       "      <th>adm1_is_orig</th>\n",
       "      <th>adm2_name</th>\n",
       "      <th>adm2_is_orig</th>\n",
       "      <th>adm3_name</th>\n",
       "      <th>adm3_is_orig</th>\n",
       "      <th>adm4_name</th>\n",
       "      <th>adm4_is_orig</th>\n",
       "    </tr>\n",
       "  </thead>\n",
       "  <tbody>\n",
       "    <tr>\n",
       "      <th>0</th>\n",
       "      <td>010000000</td>\n",
       "      <td>REGION I ILOCOS REGION</td>\n",
       "      <td>reg</td>\n",
       "      <td>True</td>\n",
       "      <td>1</td>\n",
       "      <td>010000000</td>\n",
       "      <td>None</td>\n",
       "      <td>None</td>\n",
       "      <td>None</td>\n",
       "      <td>REGION I ILOCOS REGION</td>\n",
       "      <td>True</td>\n",
       "      <td>NaN</td>\n",
       "      <td>NaN</td>\n",
       "      <td>NaN</td>\n",
       "      <td>NaN</td>\n",
       "      <td>NaN</td>\n",
       "      <td>NaN</td>\n",
       "    </tr>\n",
       "    <tr>\n",
       "      <th>1</th>\n",
       "      <td>010000000</td>\n",
       "      <td>REGION I ILOCOS REGION</td>\n",
       "      <td>reg</td>\n",
       "      <td>True</td>\n",
       "      <td>1</td>\n",
       "      <td>010000000</td>\n",
       "      <td>None</td>\n",
       "      <td>None</td>\n",
       "      <td>None</td>\n",
       "      <td>ILOCOS REGION</td>\n",
       "      <td>False</td>\n",
       "      <td>NaN</td>\n",
       "      <td>NaN</td>\n",
       "      <td>NaN</td>\n",
       "      <td>NaN</td>\n",
       "      <td>NaN</td>\n",
       "      <td>NaN</td>\n",
       "    </tr>\n",
       "    <tr>\n",
       "      <th>2</th>\n",
       "      <td>010000000</td>\n",
       "      <td>REGION I ILOCOS REGION</td>\n",
       "      <td>reg</td>\n",
       "      <td>True</td>\n",
       "      <td>1</td>\n",
       "      <td>010000000</td>\n",
       "      <td>None</td>\n",
       "      <td>None</td>\n",
       "      <td>None</td>\n",
       "      <td>REGION 1</td>\n",
       "      <td>False</td>\n",
       "      <td>NaN</td>\n",
       "      <td>NaN</td>\n",
       "      <td>NaN</td>\n",
       "      <td>NaN</td>\n",
       "      <td>NaN</td>\n",
       "      <td>NaN</td>\n",
       "    </tr>\n",
       "    <tr>\n",
       "      <th>3</th>\n",
       "      <td>010000000</td>\n",
       "      <td>REGION I ILOCOS REGION</td>\n",
       "      <td>reg</td>\n",
       "      <td>True</td>\n",
       "      <td>1</td>\n",
       "      <td>010000000</td>\n",
       "      <td>None</td>\n",
       "      <td>None</td>\n",
       "      <td>None</td>\n",
       "      <td>REGION I</td>\n",
       "      <td>False</td>\n",
       "      <td>NaN</td>\n",
       "      <td>NaN</td>\n",
       "      <td>NaN</td>\n",
       "      <td>NaN</td>\n",
       "      <td>NaN</td>\n",
       "      <td>NaN</td>\n",
       "    </tr>\n",
       "    <tr>\n",
       "      <th>4</th>\n",
       "      <td>010000000</td>\n",
       "      <td>ILOCOS REGION</td>\n",
       "      <td>reg</td>\n",
       "      <td>False</td>\n",
       "      <td>1</td>\n",
       "      <td>010000000</td>\n",
       "      <td>None</td>\n",
       "      <td>None</td>\n",
       "      <td>None</td>\n",
       "      <td>REGION I ILOCOS REGION</td>\n",
       "      <td>True</td>\n",
       "      <td>NaN</td>\n",
       "      <td>NaN</td>\n",
       "      <td>NaN</td>\n",
       "      <td>NaN</td>\n",
       "      <td>NaN</td>\n",
       "      <td>NaN</td>\n",
       "    </tr>\n",
       "  </tbody>\n",
       "</table>\n",
       "</div>"
      ],
      "text/plain": [
       "        code                location interlevel original  adm_rank  adm1_code  \\\n",
       "0  010000000  REGION I ILOCOS REGION        reg     True         1  010000000   \n",
       "1  010000000  REGION I ILOCOS REGION        reg     True         1  010000000   \n",
       "2  010000000  REGION I ILOCOS REGION        reg     True         1  010000000   \n",
       "3  010000000  REGION I ILOCOS REGION        reg     True         1  010000000   \n",
       "4  010000000           ILOCOS REGION        reg    False         1  010000000   \n",
       "\n",
       "  adm2_code adm3_code adm4_code               adm1_name adm1_is_orig  \\\n",
       "0      None      None      None  REGION I ILOCOS REGION         True   \n",
       "1      None      None      None           ILOCOS REGION        False   \n",
       "2      None      None      None                REGION 1        False   \n",
       "3      None      None      None                REGION I        False   \n",
       "4      None      None      None  REGION I ILOCOS REGION         True   \n",
       "\n",
       "  adm2_name adm2_is_orig adm3_name adm3_is_orig adm4_name adm4_is_orig  \n",
       "0       NaN          NaN       NaN          NaN       NaN          NaN  \n",
       "1       NaN          NaN       NaN          NaN       NaN          NaN  \n",
       "2       NaN          NaN       NaN          NaN       NaN          NaN  \n",
       "3       NaN          NaN       NaN          NaN       NaN          NaN  \n",
       "4       NaN          NaN       NaN          NaN       NaN          NaN  "
      ]
     },
     "execution_count": 24,
     "metadata": {},
     "output_type": "execute_result"
    }
   ],
   "source": [
    "psgc_unpivot = psgc_unpivot.merge(all_loc_names.rename(columns={'location':'adm4_name','original':'adm4_is_orig'}),how=\"left\",left_on=\"adm4_code\",right_on=\"join_code\").drop('join_code',axis=1)\n",
    "psgc_unpivot.head()"
   ]
  },
  {
   "cell_type": "code",
   "execution_count": 25,
   "metadata": {
    "ExecuteTime": {
     "end_time": "2018-09-27T10:35:18.027238",
     "start_time": "2018-09-27T10:35:17.815009"
    },
    "collapsed": false
   },
   "outputs": [],
   "source": [
    "#Special handling for isabela city! it's supposed to be in the province of basilan\n",
    "\n",
    "psgc_unpivot.loc[psgc_unpivot.code.isin([\"099700000\",\"099701000\"]),\"adm2_name\"] = \"BASILAN\"\n",
    "\n",
    "#Also, isabela is the only place with two PSGC codes -- one for province level and one for city level! lets just use one.\n",
    "\n",
    "psgc_unpivot = psgc_unpivot[psgc_unpivot.code <> \"099700000\"]"
   ]
  },
  {
   "cell_type": "markdown",
   "metadata": {},
   "source": [
    "Create a \"location tuple\" that concatenates all the location components names into a single tuple. We'll use this for fuzzy matching later."
   ]
  },
  {
   "cell_type": "code",
   "execution_count": 26,
   "metadata": {
    "ExecuteTime": {
     "end_time": "2018-09-27T10:35:18.981779",
     "start_time": "2018-09-27T10:35:18.029147"
    },
    "collapsed": false
   },
   "outputs": [
    {
     "name": "stdout",
     "output_type": "stream",
     "text": [
      "451465\n",
      "472125\n"
     ]
    }
   ],
   "source": [
    "#append all the rows again for places in metro manila except with blank regions. \n",
    "#this enables us to accept \"Fort Bonifacio, Taguig\" as an exact match even if it doesn't have \"Metro Manila\" in it\n",
    "\n",
    "metro_manila = psgc_unpivot[psgc_unpivot.code.str.startswith(\"13\")]\n",
    "metro_manila.loc[:,\"adm1_name\"] = np.nan\n",
    "print len(psgc_unpivot)\n",
    "psgc_unpivot = psgc_unpivot.append(metro_manila,ignore_index=True).reset_index(drop=True)\n",
    "print len(psgc_unpivot)"
   ]
  },
  {
   "cell_type": "code",
   "execution_count": 27,
   "metadata": {
    "ExecuteTime": {
     "end_time": "2018-09-27T10:35:18.996577",
     "start_time": "2018-09-27T10:35:18.983745"
    },
    "collapsed": false
   },
   "outputs": [],
   "source": [
    "def normalize_text(item):\n",
    "    replacements = {r\"city of|city\":\"\",\n",
    "                    r\"barangay|brgy\":\"bgy\",\n",
    "                    r\"[^a-zA-Z0-9_\\s]\":\"\",\n",
    "                    r\"poblacion\":\"pob\",\n",
    "                    r\"ñ\":\"n\"}\n",
    "    \n",
    "    item = item.lower()\n",
    "    \n",
    "    if item not in ['bgy','municity','prov','reg']:\n",
    "        \n",
    "        for k, v in replacements.items():\n",
    "            item = re.sub(k,v,item.strip())\n",
    "            \n",
    "    return item.strip()"
   ]
  },
  {
   "cell_type": "code",
   "execution_count": 28,
   "metadata": {
    "ExecuteTime": {
     "end_time": "2018-09-27T10:35:19.017470",
     "start_time": "2018-09-27T10:35:19.000246"
    },
    "collapsed": false
   },
   "outputs": [],
   "source": [
    "def create_loc_tuple_with_code(row):\n",
    "    \n",
    "    #For now, disregard making location tuples for all regions \n",
    "    if row.interlevel == \"reg\": \n",
    "        return None \n",
    "    \n",
    "    #Special handling for NCR:\n",
    "    \n",
    "    if row.code[:3] == \"133\" and row.interlevel <> \"municity\": #Manila has submunicipalities so include all admin levels\n",
    "        \n",
    "        return tuple([normalize_text(v) for v in [row.adm4_name,row.adm3_name,row.adm2_name,row.adm1_name,row.interlevel,row.code] if (v is not None) and (v is not np.nan)])\n",
    "    \n",
    "    elif (row.code[:3] == \"133\" and row.interlevel == \"municity\") or (row.code[:3] == \"137\"): #Except when Manila City or anywhere else in NCR is the item, then exclude adm2_name\n",
    "        \n",
    "        return tuple([normalize_text(v) for v in [row.adm4_name,row.adm3_name,row.adm1_name,row.interlevel,row.code] if (v is not None) and (v is not np.nan)])\n",
    "        \n",
    "    #else, exclude region from final tuple   \n",
    "    \n",
    "    return tuple([normalize_text(v) for v in [row.adm4_name,row.adm3_name,row.adm2_name,row.interlevel,row.code] if (v is not None) and (v is not np.nan)])"
   ]
  },
  {
   "cell_type": "code",
   "execution_count": 29,
   "metadata": {
    "ExecuteTime": {
     "end_time": "2018-09-27T10:36:44.871910",
     "start_time": "2018-09-27T10:35:19.020364"
    },
    "collapsed": false
   },
   "outputs": [
    {
     "data": {
      "text/html": [
       "<div>\n",
       "<table border=\"1\" class=\"dataframe\">\n",
       "  <thead>\n",
       "    <tr style=\"text-align: right;\">\n",
       "      <th></th>\n",
       "      <th>code</th>\n",
       "      <th>location</th>\n",
       "      <th>interlevel</th>\n",
       "      <th>original</th>\n",
       "      <th>adm_rank</th>\n",
       "      <th>adm1_code</th>\n",
       "      <th>adm2_code</th>\n",
       "      <th>adm3_code</th>\n",
       "      <th>adm4_code</th>\n",
       "      <th>adm1_name</th>\n",
       "      <th>adm1_is_orig</th>\n",
       "      <th>adm2_name</th>\n",
       "      <th>adm2_is_orig</th>\n",
       "      <th>adm3_name</th>\n",
       "      <th>adm3_is_orig</th>\n",
       "      <th>adm4_name</th>\n",
       "      <th>adm4_is_orig</th>\n",
       "      <th>loc_tuple</th>\n",
       "    </tr>\n",
       "  </thead>\n",
       "  <tbody>\n",
       "    <tr>\n",
       "      <th>0</th>\n",
       "      <td>010000000</td>\n",
       "      <td>REGION I ILOCOS REGION</td>\n",
       "      <td>reg</td>\n",
       "      <td>True</td>\n",
       "      <td>1</td>\n",
       "      <td>010000000</td>\n",
       "      <td>None</td>\n",
       "      <td>None</td>\n",
       "      <td>None</td>\n",
       "      <td>REGION I ILOCOS REGION</td>\n",
       "      <td>True</td>\n",
       "      <td>NaN</td>\n",
       "      <td>NaN</td>\n",
       "      <td>NaN</td>\n",
       "      <td>NaN</td>\n",
       "      <td>NaN</td>\n",
       "      <td>NaN</td>\n",
       "      <td>None</td>\n",
       "    </tr>\n",
       "    <tr>\n",
       "      <th>1</th>\n",
       "      <td>010000000</td>\n",
       "      <td>REGION I ILOCOS REGION</td>\n",
       "      <td>reg</td>\n",
       "      <td>True</td>\n",
       "      <td>1</td>\n",
       "      <td>010000000</td>\n",
       "      <td>None</td>\n",
       "      <td>None</td>\n",
       "      <td>None</td>\n",
       "      <td>ILOCOS REGION</td>\n",
       "      <td>False</td>\n",
       "      <td>NaN</td>\n",
       "      <td>NaN</td>\n",
       "      <td>NaN</td>\n",
       "      <td>NaN</td>\n",
       "      <td>NaN</td>\n",
       "      <td>NaN</td>\n",
       "      <td>None</td>\n",
       "    </tr>\n",
       "    <tr>\n",
       "      <th>2</th>\n",
       "      <td>010000000</td>\n",
       "      <td>REGION I ILOCOS REGION</td>\n",
       "      <td>reg</td>\n",
       "      <td>True</td>\n",
       "      <td>1</td>\n",
       "      <td>010000000</td>\n",
       "      <td>None</td>\n",
       "      <td>None</td>\n",
       "      <td>None</td>\n",
       "      <td>REGION 1</td>\n",
       "      <td>False</td>\n",
       "      <td>NaN</td>\n",
       "      <td>NaN</td>\n",
       "      <td>NaN</td>\n",
       "      <td>NaN</td>\n",
       "      <td>NaN</td>\n",
       "      <td>NaN</td>\n",
       "      <td>None</td>\n",
       "    </tr>\n",
       "    <tr>\n",
       "      <th>3</th>\n",
       "      <td>010000000</td>\n",
       "      <td>REGION I ILOCOS REGION</td>\n",
       "      <td>reg</td>\n",
       "      <td>True</td>\n",
       "      <td>1</td>\n",
       "      <td>010000000</td>\n",
       "      <td>None</td>\n",
       "      <td>None</td>\n",
       "      <td>None</td>\n",
       "      <td>REGION I</td>\n",
       "      <td>False</td>\n",
       "      <td>NaN</td>\n",
       "      <td>NaN</td>\n",
       "      <td>NaN</td>\n",
       "      <td>NaN</td>\n",
       "      <td>NaN</td>\n",
       "      <td>NaN</td>\n",
       "      <td>None</td>\n",
       "    </tr>\n",
       "    <tr>\n",
       "      <th>4</th>\n",
       "      <td>010000000</td>\n",
       "      <td>ILOCOS REGION</td>\n",
       "      <td>reg</td>\n",
       "      <td>False</td>\n",
       "      <td>1</td>\n",
       "      <td>010000000</td>\n",
       "      <td>None</td>\n",
       "      <td>None</td>\n",
       "      <td>None</td>\n",
       "      <td>REGION I ILOCOS REGION</td>\n",
       "      <td>True</td>\n",
       "      <td>NaN</td>\n",
       "      <td>NaN</td>\n",
       "      <td>NaN</td>\n",
       "      <td>NaN</td>\n",
       "      <td>NaN</td>\n",
       "      <td>NaN</td>\n",
       "      <td>None</td>\n",
       "    </tr>\n",
       "    <tr>\n",
       "      <th>5</th>\n",
       "      <td>010000000</td>\n",
       "      <td>ILOCOS REGION</td>\n",
       "      <td>reg</td>\n",
       "      <td>False</td>\n",
       "      <td>1</td>\n",
       "      <td>010000000</td>\n",
       "      <td>None</td>\n",
       "      <td>None</td>\n",
       "      <td>None</td>\n",
       "      <td>ILOCOS REGION</td>\n",
       "      <td>False</td>\n",
       "      <td>NaN</td>\n",
       "      <td>NaN</td>\n",
       "      <td>NaN</td>\n",
       "      <td>NaN</td>\n",
       "      <td>NaN</td>\n",
       "      <td>NaN</td>\n",
       "      <td>None</td>\n",
       "    </tr>\n",
       "    <tr>\n",
       "      <th>6</th>\n",
       "      <td>010000000</td>\n",
       "      <td>ILOCOS REGION</td>\n",
       "      <td>reg</td>\n",
       "      <td>False</td>\n",
       "      <td>1</td>\n",
       "      <td>010000000</td>\n",
       "      <td>None</td>\n",
       "      <td>None</td>\n",
       "      <td>None</td>\n",
       "      <td>REGION 1</td>\n",
       "      <td>False</td>\n",
       "      <td>NaN</td>\n",
       "      <td>NaN</td>\n",
       "      <td>NaN</td>\n",
       "      <td>NaN</td>\n",
       "      <td>NaN</td>\n",
       "      <td>NaN</td>\n",
       "      <td>None</td>\n",
       "    </tr>\n",
       "    <tr>\n",
       "      <th>7</th>\n",
       "      <td>010000000</td>\n",
       "      <td>ILOCOS REGION</td>\n",
       "      <td>reg</td>\n",
       "      <td>False</td>\n",
       "      <td>1</td>\n",
       "      <td>010000000</td>\n",
       "      <td>None</td>\n",
       "      <td>None</td>\n",
       "      <td>None</td>\n",
       "      <td>REGION I</td>\n",
       "      <td>False</td>\n",
       "      <td>NaN</td>\n",
       "      <td>NaN</td>\n",
       "      <td>NaN</td>\n",
       "      <td>NaN</td>\n",
       "      <td>NaN</td>\n",
       "      <td>NaN</td>\n",
       "      <td>None</td>\n",
       "    </tr>\n",
       "    <tr>\n",
       "      <th>8</th>\n",
       "      <td>010000000</td>\n",
       "      <td>REGION 1</td>\n",
       "      <td>reg</td>\n",
       "      <td>False</td>\n",
       "      <td>1</td>\n",
       "      <td>010000000</td>\n",
       "      <td>None</td>\n",
       "      <td>None</td>\n",
       "      <td>None</td>\n",
       "      <td>REGION I ILOCOS REGION</td>\n",
       "      <td>True</td>\n",
       "      <td>NaN</td>\n",
       "      <td>NaN</td>\n",
       "      <td>NaN</td>\n",
       "      <td>NaN</td>\n",
       "      <td>NaN</td>\n",
       "      <td>NaN</td>\n",
       "      <td>None</td>\n",
       "    </tr>\n",
       "    <tr>\n",
       "      <th>9</th>\n",
       "      <td>010000000</td>\n",
       "      <td>REGION 1</td>\n",
       "      <td>reg</td>\n",
       "      <td>False</td>\n",
       "      <td>1</td>\n",
       "      <td>010000000</td>\n",
       "      <td>None</td>\n",
       "      <td>None</td>\n",
       "      <td>None</td>\n",
       "      <td>ILOCOS REGION</td>\n",
       "      <td>False</td>\n",
       "      <td>NaN</td>\n",
       "      <td>NaN</td>\n",
       "      <td>NaN</td>\n",
       "      <td>NaN</td>\n",
       "      <td>NaN</td>\n",
       "      <td>NaN</td>\n",
       "      <td>None</td>\n",
       "    </tr>\n",
       "  </tbody>\n",
       "</table>\n",
       "</div>"
      ],
      "text/plain": [
       "        code                location interlevel original  adm_rank  adm1_code  \\\n",
       "0  010000000  REGION I ILOCOS REGION        reg     True         1  010000000   \n",
       "1  010000000  REGION I ILOCOS REGION        reg     True         1  010000000   \n",
       "2  010000000  REGION I ILOCOS REGION        reg     True         1  010000000   \n",
       "3  010000000  REGION I ILOCOS REGION        reg     True         1  010000000   \n",
       "4  010000000           ILOCOS REGION        reg    False         1  010000000   \n",
       "5  010000000           ILOCOS REGION        reg    False         1  010000000   \n",
       "6  010000000           ILOCOS REGION        reg    False         1  010000000   \n",
       "7  010000000           ILOCOS REGION        reg    False         1  010000000   \n",
       "8  010000000                REGION 1        reg    False         1  010000000   \n",
       "9  010000000                REGION 1        reg    False         1  010000000   \n",
       "\n",
       "  adm2_code adm3_code adm4_code               adm1_name adm1_is_orig  \\\n",
       "0      None      None      None  REGION I ILOCOS REGION         True   \n",
       "1      None      None      None           ILOCOS REGION        False   \n",
       "2      None      None      None                REGION 1        False   \n",
       "3      None      None      None                REGION I        False   \n",
       "4      None      None      None  REGION I ILOCOS REGION         True   \n",
       "5      None      None      None           ILOCOS REGION        False   \n",
       "6      None      None      None                REGION 1        False   \n",
       "7      None      None      None                REGION I        False   \n",
       "8      None      None      None  REGION I ILOCOS REGION         True   \n",
       "9      None      None      None           ILOCOS REGION        False   \n",
       "\n",
       "  adm2_name adm2_is_orig adm3_name adm3_is_orig adm4_name adm4_is_orig  \\\n",
       "0       NaN          NaN       NaN          NaN       NaN          NaN   \n",
       "1       NaN          NaN       NaN          NaN       NaN          NaN   \n",
       "2       NaN          NaN       NaN          NaN       NaN          NaN   \n",
       "3       NaN          NaN       NaN          NaN       NaN          NaN   \n",
       "4       NaN          NaN       NaN          NaN       NaN          NaN   \n",
       "5       NaN          NaN       NaN          NaN       NaN          NaN   \n",
       "6       NaN          NaN       NaN          NaN       NaN          NaN   \n",
       "7       NaN          NaN       NaN          NaN       NaN          NaN   \n",
       "8       NaN          NaN       NaN          NaN       NaN          NaN   \n",
       "9       NaN          NaN       NaN          NaN       NaN          NaN   \n",
       "\n",
       "  loc_tuple  \n",
       "0      None  \n",
       "1      None  \n",
       "2      None  \n",
       "3      None  \n",
       "4      None  \n",
       "5      None  \n",
       "6      None  \n",
       "7      None  \n",
       "8      None  \n",
       "9      None  "
      ]
     },
     "execution_count": 29,
     "metadata": {},
     "output_type": "execute_result"
    }
   ],
   "source": [
    "psgc_unpivot.loc[:,'loc_tuple'] = psgc_unpivot.apply(create_loc_tuple_with_code,axis=1)\n",
    "psgc_unpivot.head(10)"
   ]
  },
  {
   "cell_type": "code",
   "execution_count": 30,
   "metadata": {
    "ExecuteTime": {
     "end_time": "2018-09-27T10:36:45.786495",
     "start_time": "2018-09-27T10:36:44.874824"
    },
    "collapsed": false
   },
   "outputs": [
    {
     "data": {
      "text/plain": [
       "459729"
      ]
     },
     "execution_count": 30,
     "metadata": {},
     "output_type": "execute_result"
    }
   ],
   "source": [
    "psgc_unpivot = psgc_unpivot.drop_duplicates(keep=\"first\")\n",
    "len(psgc_unpivot)"
   ]
  },
  {
   "cell_type": "markdown",
   "metadata": {},
   "source": [
    "## Create canonical names"
   ]
  },
  {
   "cell_type": "code",
   "execution_count": 91,
   "metadata": {
    "ExecuteTime": {
     "end_time": "2018-09-27T10:51:19.562119",
     "start_time": "2018-09-27T10:51:19.527949"
    },
    "collapsed": false
   },
   "outputs": [
    {
     "data": {
      "text/plain": [
       "43791"
      ]
     },
     "execution_count": 91,
     "metadata": {},
     "output_type": "execute_result"
    }
   ],
   "source": [
    "psgc_unpivot.code.nunique()"
   ]
  },
  {
   "cell_type": "code",
   "execution_count": 111,
   "metadata": {
    "ExecuteTime": {
     "end_time": "2018-09-27T10:55:45.021831",
     "start_time": "2018-09-27T10:55:44.650496"
    },
    "collapsed": false
   },
   "outputs": [
    {
     "data": {
      "text/plain": [
       "43791"
      ]
     },
     "execution_count": 111,
     "metadata": {},
     "output_type": "execute_result"
    }
   ],
   "source": [
    "#Find the original names for each unique PSGC code\n",
    "\n",
    "psgc_unpivot['is_canonical'] = psgc_unpivot[['adm4_is_orig','adm3_is_orig','adm2_is_orig','adm1_is_orig']].sum(axis=1)\n",
    "\n",
    "#does every code have a canonical name?\n",
    "\n",
    "psgc_unpivot[psgc_unpivot.is_canonical>0].code.nunique()"
   ]
  },
  {
   "cell_type": "code",
   "execution_count": 112,
   "metadata": {
    "ExecuteTime": {
     "end_time": "2018-09-27T10:55:45.450514",
     "start_time": "2018-09-27T10:55:45.090743"
    },
    "collapsed": false
   },
   "outputs": [
    {
     "data": {
      "text/plain": [
       "1    43791\n",
       "dtype: int64"
      ]
     },
     "execution_count": 112,
     "metadata": {},
     "output_type": "execute_result"
    }
   ],
   "source": [
    "# get the canonical names for each PSGC\n",
    "\n",
    "canonical_names = psgc_unpivot.sort_values([\"code\",\"is_canonical\"],ascending=False).drop_duplicates(\"code\",keep=\"first\")\n",
    "\n",
    "#check if each code has one canonical name\n",
    "\n",
    "canonical_names.groupby('code').size().value_counts()"
   ]
  },
  {
   "cell_type": "code",
   "execution_count": 113,
   "metadata": {
    "ExecuteTime": {
     "end_time": "2018-09-27T10:55:45.660206",
     "start_time": "2018-09-27T10:55:45.605774"
    },
    "collapsed": false
   },
   "outputs": [
    {
     "data": {
      "text/html": [
       "<div>\n",
       "<table border=\"1\" class=\"dataframe\">\n",
       "  <thead>\n",
       "    <tr style=\"text-align: right;\">\n",
       "      <th></th>\n",
       "      <th>code</th>\n",
       "      <th>location</th>\n",
       "      <th>interlevel</th>\n",
       "      <th>original</th>\n",
       "      <th>adm_rank</th>\n",
       "      <th>adm1_code</th>\n",
       "      <th>adm2_code</th>\n",
       "      <th>adm3_code</th>\n",
       "      <th>adm4_code</th>\n",
       "      <th>adm1_name</th>\n",
       "      <th>adm1_is_orig</th>\n",
       "      <th>adm2_name</th>\n",
       "      <th>adm2_is_orig</th>\n",
       "      <th>adm3_name</th>\n",
       "      <th>adm3_is_orig</th>\n",
       "      <th>adm4_name</th>\n",
       "      <th>adm4_is_orig</th>\n",
       "      <th>loc_tuple</th>\n",
       "      <th>is_canonical</th>\n",
       "    </tr>\n",
       "  </thead>\n",
       "  <tbody>\n",
       "    <tr>\n",
       "      <th>448821</th>\n",
       "      <td>175917006</td>\n",
       "      <td>SAN ISIDRO</td>\n",
       "      <td>bgy</td>\n",
       "      <td>True</td>\n",
       "      <td>4</td>\n",
       "      <td>170000000</td>\n",
       "      <td>175900000</td>\n",
       "      <td>175917000</td>\n",
       "      <td>175917006</td>\n",
       "      <td>MIMAROPA REGION</td>\n",
       "      <td>True</td>\n",
       "      <td>ROMBLON</td>\n",
       "      <td>True</td>\n",
       "      <td>SANTA MARIA IMELDA</td>\n",
       "      <td>True</td>\n",
       "      <td>SAN ISIDRO</td>\n",
       "      <td>True</td>\n",
       "      <td>(san isidro, santa maria imelda, romblon, bgy,...</td>\n",
       "      <td>4.0</td>\n",
       "    </tr>\n",
       "    <tr>\n",
       "      <th>448811</th>\n",
       "      <td>175917005</td>\n",
       "      <td>SANTO NINO</td>\n",
       "      <td>bgy</td>\n",
       "      <td>False</td>\n",
       "      <td>4</td>\n",
       "      <td>170000000</td>\n",
       "      <td>175900000</td>\n",
       "      <td>175917000</td>\n",
       "      <td>175917005</td>\n",
       "      <td>MIMAROPA REGION</td>\n",
       "      <td>True</td>\n",
       "      <td>ROMBLON</td>\n",
       "      <td>True</td>\n",
       "      <td>SANTA MARIA IMELDA</td>\n",
       "      <td>True</td>\n",
       "      <td>SANTO NIÑO</td>\n",
       "      <td>True</td>\n",
       "      <td>(santo nio, santa maria imelda, romblon, bgy, ...</td>\n",
       "      <td>4.0</td>\n",
       "    </tr>\n",
       "    <tr>\n",
       "      <th>448806</th>\n",
       "      <td>175917004</td>\n",
       "      <td>PAROYHOG</td>\n",
       "      <td>bgy</td>\n",
       "      <td>True</td>\n",
       "      <td>4</td>\n",
       "      <td>170000000</td>\n",
       "      <td>175900000</td>\n",
       "      <td>175917000</td>\n",
       "      <td>175917004</td>\n",
       "      <td>MIMAROPA REGION</td>\n",
       "      <td>True</td>\n",
       "      <td>ROMBLON</td>\n",
       "      <td>True</td>\n",
       "      <td>SANTA MARIA IMELDA</td>\n",
       "      <td>True</td>\n",
       "      <td>PAROYHOG</td>\n",
       "      <td>True</td>\n",
       "      <td>(paroyhog, santa maria imelda, romblon, bgy, 1...</td>\n",
       "      <td>4.0</td>\n",
       "    </tr>\n",
       "    <tr>\n",
       "      <th>448803</th>\n",
       "      <td>175917003</td>\n",
       "      <td>CONCEPCION SUR</td>\n",
       "      <td>bgy</td>\n",
       "      <td>True</td>\n",
       "      <td>4</td>\n",
       "      <td>170000000</td>\n",
       "      <td>175900000</td>\n",
       "      <td>175917000</td>\n",
       "      <td>175917003</td>\n",
       "      <td>MIMAROPA REGION</td>\n",
       "      <td>True</td>\n",
       "      <td>ROMBLON</td>\n",
       "      <td>True</td>\n",
       "      <td>SANTA MARIA IMELDA</td>\n",
       "      <td>True</td>\n",
       "      <td>CONCEPCION SUR</td>\n",
       "      <td>True</td>\n",
       "      <td>(concepcion sur, santa maria imelda, romblon, ...</td>\n",
       "      <td>4.0</td>\n",
       "    </tr>\n",
       "    <tr>\n",
       "      <th>448793</th>\n",
       "      <td>175917002</td>\n",
       "      <td>CONCEPCION NORTE</td>\n",
       "      <td>bgy</td>\n",
       "      <td>False</td>\n",
       "      <td>4</td>\n",
       "      <td>170000000</td>\n",
       "      <td>175900000</td>\n",
       "      <td>175917000</td>\n",
       "      <td>175917002</td>\n",
       "      <td>MIMAROPA REGION</td>\n",
       "      <td>True</td>\n",
       "      <td>ROMBLON</td>\n",
       "      <td>True</td>\n",
       "      <td>SANTA MARIA IMELDA</td>\n",
       "      <td>True</td>\n",
       "      <td>CONCEPCION NORTE POB.</td>\n",
       "      <td>True</td>\n",
       "      <td>(concepcion norte pob, santa maria imelda, rom...</td>\n",
       "      <td>4.0</td>\n",
       "    </tr>\n",
       "  </tbody>\n",
       "</table>\n",
       "</div>"
      ],
      "text/plain": [
       "             code          location interlevel original  adm_rank  adm1_code  \\\n",
       "448821  175917006        SAN ISIDRO        bgy     True         4  170000000   \n",
       "448811  175917005        SANTO NINO        bgy    False         4  170000000   \n",
       "448806  175917004          PAROYHOG        bgy     True         4  170000000   \n",
       "448803  175917003    CONCEPCION SUR        bgy     True         4  170000000   \n",
       "448793  175917002  CONCEPCION NORTE        bgy    False         4  170000000   \n",
       "\n",
       "        adm2_code  adm3_code  adm4_code        adm1_name adm1_is_orig  \\\n",
       "448821  175900000  175917000  175917006  MIMAROPA REGION         True   \n",
       "448811  175900000  175917000  175917005  MIMAROPA REGION         True   \n",
       "448806  175900000  175917000  175917004  MIMAROPA REGION         True   \n",
       "448803  175900000  175917000  175917003  MIMAROPA REGION         True   \n",
       "448793  175900000  175917000  175917002  MIMAROPA REGION         True   \n",
       "\n",
       "       adm2_name adm2_is_orig           adm3_name adm3_is_orig  \\\n",
       "448821   ROMBLON         True  SANTA MARIA IMELDA         True   \n",
       "448811   ROMBLON         True  SANTA MARIA IMELDA         True   \n",
       "448806   ROMBLON         True  SANTA MARIA IMELDA         True   \n",
       "448803   ROMBLON         True  SANTA MARIA IMELDA         True   \n",
       "448793   ROMBLON         True  SANTA MARIA IMELDA         True   \n",
       "\n",
       "                    adm4_name adm4_is_orig  \\\n",
       "448821             SAN ISIDRO         True   \n",
       "448811             SANTO NIÑO         True   \n",
       "448806               PAROYHOG         True   \n",
       "448803         CONCEPCION SUR         True   \n",
       "448793  CONCEPCION NORTE POB.         True   \n",
       "\n",
       "                                                loc_tuple  is_canonical  \n",
       "448821  (san isidro, santa maria imelda, romblon, bgy,...           4.0  \n",
       "448811  (santo nio, santa maria imelda, romblon, bgy, ...           4.0  \n",
       "448806  (paroyhog, santa maria imelda, romblon, bgy, 1...           4.0  \n",
       "448803  (concepcion sur, santa maria imelda, romblon, ...           4.0  \n",
       "448793  (concepcion norte pob, santa maria imelda, rom...           4.0  "
      ]
     },
     "execution_count": 113,
     "metadata": {},
     "output_type": "execute_result"
    }
   ],
   "source": [
    "canonical_names.head()"
   ]
  },
  {
   "cell_type": "code",
   "execution_count": 114,
   "metadata": {
    "ExecuteTime": {
     "end_time": "2018-09-27T10:55:46.305322",
     "start_time": "2018-09-27T10:55:46.186164"
    },
    "collapsed": false
   },
   "outputs": [],
   "source": [
    "#drop row for metro manila where region is blank, we don't want to use these in the canonical names\n",
    "\n",
    "null_ncr_region = canonical_names[canonical_names.code.str.startswith(\"13\") * canonical_names.adm1_name.isnull()].index\n",
    "canonical_names = canonical_names.drop(null_ncr_region,axis=0).set_index('code')\n",
    "\n",
    "#rename columns\n",
    "canonical_names = canonical_names.rename(columns={\"adm4_name\":\"bgy\",\"adm3_name\":\"municity\",\"adm2_name\":\"prov\",\"adm1_name\":\"reg\"})\n",
    "\n",
    "#keep only those we need\n",
    "canonical_names = canonical_names[['bgy','municity','prov','reg']]"
   ]
  },
  {
   "cell_type": "code",
   "execution_count": 115,
   "metadata": {
    "ExecuteTime": {
     "end_time": "2018-09-27T10:55:46.929365",
     "start_time": "2018-09-27T10:55:46.883685"
    },
    "collapsed": false
   },
   "outputs": [
    {
     "name": "stdout",
     "output_type": "stream",
     "text": [
      "<class 'pandas.core.frame.DataFrame'>\n",
      "Index: 43791 entries, 175917006 to 010000000\n",
      "Data columns (total 4 columns):\n",
      "bgy         42044 non-null object\n",
      "municity    43693 non-null object\n",
      "prov        42945 non-null object\n",
      "reg         43791 non-null object\n",
      "dtypes: object(4)\n",
      "memory usage: 1.7+ MB\n",
      "None\n"
     ]
    },
    {
     "data": {
      "text/html": [
       "<div>\n",
       "<table border=\"1\" class=\"dataframe\">\n",
       "  <thead>\n",
       "    <tr style=\"text-align: right;\">\n",
       "      <th></th>\n",
       "      <th>bgy</th>\n",
       "      <th>municity</th>\n",
       "      <th>prov</th>\n",
       "      <th>reg</th>\n",
       "    </tr>\n",
       "    <tr>\n",
       "      <th>code</th>\n",
       "      <th></th>\n",
       "      <th></th>\n",
       "      <th></th>\n",
       "      <th></th>\n",
       "    </tr>\n",
       "  </thead>\n",
       "  <tbody>\n",
       "    <tr>\n",
       "      <th>175917006</th>\n",
       "      <td>SAN ISIDRO</td>\n",
       "      <td>SANTA MARIA IMELDA</td>\n",
       "      <td>ROMBLON</td>\n",
       "      <td>MIMAROPA REGION</td>\n",
       "    </tr>\n",
       "    <tr>\n",
       "      <th>175917005</th>\n",
       "      <td>SANTO NIÑO</td>\n",
       "      <td>SANTA MARIA IMELDA</td>\n",
       "      <td>ROMBLON</td>\n",
       "      <td>MIMAROPA REGION</td>\n",
       "    </tr>\n",
       "    <tr>\n",
       "      <th>175917004</th>\n",
       "      <td>PAROYHOG</td>\n",
       "      <td>SANTA MARIA IMELDA</td>\n",
       "      <td>ROMBLON</td>\n",
       "      <td>MIMAROPA REGION</td>\n",
       "    </tr>\n",
       "    <tr>\n",
       "      <th>175917003</th>\n",
       "      <td>CONCEPCION SUR</td>\n",
       "      <td>SANTA MARIA IMELDA</td>\n",
       "      <td>ROMBLON</td>\n",
       "      <td>MIMAROPA REGION</td>\n",
       "    </tr>\n",
       "    <tr>\n",
       "      <th>175917002</th>\n",
       "      <td>CONCEPCION NORTE POB.</td>\n",
       "      <td>SANTA MARIA IMELDA</td>\n",
       "      <td>ROMBLON</td>\n",
       "      <td>MIMAROPA REGION</td>\n",
       "    </tr>\n",
       "  </tbody>\n",
       "</table>\n",
       "</div>"
      ],
      "text/plain": [
       "                             bgy            municity     prov              reg\n",
       "code                                                                          \n",
       "175917006             SAN ISIDRO  SANTA MARIA IMELDA  ROMBLON  MIMAROPA REGION\n",
       "175917005             SANTO NIÑO  SANTA MARIA IMELDA  ROMBLON  MIMAROPA REGION\n",
       "175917004               PAROYHOG  SANTA MARIA IMELDA  ROMBLON  MIMAROPA REGION\n",
       "175917003         CONCEPCION SUR  SANTA MARIA IMELDA  ROMBLON  MIMAROPA REGION\n",
       "175917002  CONCEPCION NORTE POB.  SANTA MARIA IMELDA  ROMBLON  MIMAROPA REGION"
      ]
     },
     "execution_count": 115,
     "metadata": {},
     "output_type": "execute_result"
    }
   ],
   "source": [
    "print canonical_names.info()\n",
    "\n",
    "canonical_names.head()"
   ]
  },
  {
   "cell_type": "code",
   "execution_count": 116,
   "metadata": {
    "ExecuteTime": {
     "end_time": "2018-09-27T10:55:47.932677",
     "start_time": "2018-09-27T10:55:47.566682"
    },
    "collapsed": false,
    "scrolled": true
   },
   "outputs": [
    {
     "name": "stdout",
     "output_type": "stream",
     "text": [
      "<class 'pandas.core.frame.DataFrame'>\n",
      "Int64Index: 74366 entries, 16 to 471661\n",
      "Data columns (total 6 columns):\n",
      "loc_tuple    74366 non-null object\n",
      "code         74366 non-null object\n",
      "bgy          72062 non-null object\n",
      "municity     74275 non-null object\n",
      "prov         68546 non-null object\n",
      "reg          74366 non-null object\n",
      "dtypes: object(6)\n",
      "memory usage: 4.0+ MB\n"
     ]
    }
   ],
   "source": [
    "#join the canonical names to all possible search terms\n",
    "\n",
    "psgc_locations = psgc_unpivot[['loc_tuple','code']].dropna().drop_duplicates(keep=\"first\")\n",
    "psgc_locations = psgc_locations.merge(canonical_names,left_on=\"code\",right_index=True,how=\"left\")\n",
    "psgc_locations.info()"
   ]
  },
  {
   "cell_type": "code",
   "execution_count": 124,
   "metadata": {
    "ExecuteTime": {
     "end_time": "2018-09-27T10:56:26.307865",
     "start_time": "2018-09-27T10:56:26.303516"
    },
    "collapsed": false
   },
   "outputs": [],
   "source": [
    "def to_string(row):\n",
    "    return \",\".join(row.loc_tuple)"
   ]
  },
  {
   "cell_type": "code",
   "execution_count": 126,
   "metadata": {
    "ExecuteTime": {
     "end_time": "2018-09-27T10:56:49.695315",
     "start_time": "2018-09-27T10:56:47.291518"
    },
    "collapsed": false
   },
   "outputs": [],
   "source": [
    "psgc_locations['loc_tuple'] = psgc_locations.apply(to_string,axis=1)"
   ]
  },
  {
   "cell_type": "code",
   "execution_count": 127,
   "metadata": {
    "ExecuteTime": {
     "end_time": "2018-09-27T10:56:50.486452",
     "start_time": "2018-09-27T10:56:50.464516"
    },
    "collapsed": false
   },
   "outputs": [
    {
     "data": {
      "text/html": [
       "<div>\n",
       "<table border=\"1\" class=\"dataframe\">\n",
       "  <thead>\n",
       "    <tr style=\"text-align: right;\">\n",
       "      <th></th>\n",
       "      <th>loc_tuple</th>\n",
       "      <th>code</th>\n",
       "      <th>bgy</th>\n",
       "      <th>municity</th>\n",
       "      <th>prov</th>\n",
       "      <th>reg</th>\n",
       "    </tr>\n",
       "  </thead>\n",
       "  <tbody>\n",
       "    <tr>\n",
       "      <th>16</th>\n",
       "      <td>ilocos norte,prov,012800000</td>\n",
       "      <td>012800000</td>\n",
       "      <td>NaN</td>\n",
       "      <td>NaN</td>\n",
       "      <td>ILOCOS NORTE</td>\n",
       "      <td>REGION I ILOCOS REGION</td>\n",
       "    </tr>\n",
       "    <tr>\n",
       "      <th>20</th>\n",
       "      <td>adams,ilocos norte,municity,012801000</td>\n",
       "      <td>012801000</td>\n",
       "      <td>NaN</td>\n",
       "      <td>ADAMS</td>\n",
       "      <td>ILOCOS NORTE</td>\n",
       "      <td>REGION I ILOCOS REGION</td>\n",
       "    </tr>\n",
       "    <tr>\n",
       "      <th>24</th>\n",
       "      <td>adams pob,adams,ilocos norte,bgy,012801001</td>\n",
       "      <td>012801001</td>\n",
       "      <td>ADAMS POB.</td>\n",
       "      <td>ADAMS</td>\n",
       "      <td>ILOCOS NORTE</td>\n",
       "      <td>REGION I ILOCOS REGION</td>\n",
       "    </tr>\n",
       "    <tr>\n",
       "      <th>25</th>\n",
       "      <td>adams,adams,ilocos norte,bgy,012801001</td>\n",
       "      <td>012801001</td>\n",
       "      <td>ADAMS POB.</td>\n",
       "      <td>ADAMS</td>\n",
       "      <td>ILOCOS NORTE</td>\n",
       "      <td>REGION I ILOCOS REGION</td>\n",
       "    </tr>\n",
       "    <tr>\n",
       "      <th>40</th>\n",
       "      <td>bacarra,ilocos norte,municity,012802000</td>\n",
       "      <td>012802000</td>\n",
       "      <td>NaN</td>\n",
       "      <td>BACARRA</td>\n",
       "      <td>ILOCOS NORTE</td>\n",
       "      <td>REGION I ILOCOS REGION</td>\n",
       "    </tr>\n",
       "  </tbody>\n",
       "</table>\n",
       "</div>"
      ],
      "text/plain": [
       "                                     loc_tuple       code         bgy  \\\n",
       "16                 ilocos norte,prov,012800000  012800000         NaN   \n",
       "20       adams,ilocos norte,municity,012801000  012801000         NaN   \n",
       "24  adams pob,adams,ilocos norte,bgy,012801001  012801001  ADAMS POB.   \n",
       "25      adams,adams,ilocos norte,bgy,012801001  012801001  ADAMS POB.   \n",
       "40     bacarra,ilocos norte,municity,012802000  012802000         NaN   \n",
       "\n",
       "   municity          prov                     reg  \n",
       "16      NaN  ILOCOS NORTE  REGION I ILOCOS REGION  \n",
       "20    ADAMS  ILOCOS NORTE  REGION I ILOCOS REGION  \n",
       "24    ADAMS  ILOCOS NORTE  REGION I ILOCOS REGION  \n",
       "25    ADAMS  ILOCOS NORTE  REGION I ILOCOS REGION  \n",
       "40  BACARRA  ILOCOS NORTE  REGION I ILOCOS REGION  "
      ]
     },
     "execution_count": 127,
     "metadata": {},
     "output_type": "execute_result"
    }
   ],
   "source": [
    "psgc_locations.head()"
   ]
  },
  {
   "cell_type": "code",
   "execution_count": 128,
   "metadata": {
    "ExecuteTime": {
     "end_time": "2018-09-27T10:56:59.468706",
     "start_time": "2018-09-27T10:56:59.229795"
    },
    "collapsed": false
   },
   "outputs": [],
   "source": [
    "psgc_locations['candidate_terms'] = psgc_locations['loc_tuple'].str.rsplit(',',n=1).str.get(0)"
   ]
  },
  {
   "cell_type": "code",
   "execution_count": 129,
   "metadata": {
    "ExecuteTime": {
     "end_time": "2018-09-27T10:57:01.105683",
     "start_time": "2018-09-27T10:57:01.068729"
    },
    "collapsed": false
   },
   "outputs": [
    {
     "data": {
      "text/html": [
       "<div>\n",
       "<table border=\"1\" class=\"dataframe\">\n",
       "  <thead>\n",
       "    <tr style=\"text-align: right;\">\n",
       "      <th></th>\n",
       "      <th>code</th>\n",
       "      <th>bgy</th>\n",
       "      <th>municity</th>\n",
       "      <th>prov</th>\n",
       "      <th>reg</th>\n",
       "      <th>candidate_terms</th>\n",
       "    </tr>\n",
       "    <tr>\n",
       "      <th>loc_tuple</th>\n",
       "      <th></th>\n",
       "      <th></th>\n",
       "      <th></th>\n",
       "      <th></th>\n",
       "      <th></th>\n",
       "      <th></th>\n",
       "    </tr>\n",
       "  </thead>\n",
       "  <tbody>\n",
       "    <tr>\n",
       "      <th>ilocos norte,prov,012800000</th>\n",
       "      <td>012800000</td>\n",
       "      <td>NaN</td>\n",
       "      <td>NaN</td>\n",
       "      <td>ILOCOS NORTE</td>\n",
       "      <td>REGION I ILOCOS REGION</td>\n",
       "      <td>ilocos norte,prov</td>\n",
       "    </tr>\n",
       "    <tr>\n",
       "      <th>adams,ilocos norte,municity,012801000</th>\n",
       "      <td>012801000</td>\n",
       "      <td>NaN</td>\n",
       "      <td>ADAMS</td>\n",
       "      <td>ILOCOS NORTE</td>\n",
       "      <td>REGION I ILOCOS REGION</td>\n",
       "      <td>adams,ilocos norte,municity</td>\n",
       "    </tr>\n",
       "    <tr>\n",
       "      <th>adams pob,adams,ilocos norte,bgy,012801001</th>\n",
       "      <td>012801001</td>\n",
       "      <td>ADAMS POB.</td>\n",
       "      <td>ADAMS</td>\n",
       "      <td>ILOCOS NORTE</td>\n",
       "      <td>REGION I ILOCOS REGION</td>\n",
       "      <td>adams pob,adams,ilocos norte,bgy</td>\n",
       "    </tr>\n",
       "    <tr>\n",
       "      <th>adams,adams,ilocos norte,bgy,012801001</th>\n",
       "      <td>012801001</td>\n",
       "      <td>ADAMS POB.</td>\n",
       "      <td>ADAMS</td>\n",
       "      <td>ILOCOS NORTE</td>\n",
       "      <td>REGION I ILOCOS REGION</td>\n",
       "      <td>adams,adams,ilocos norte,bgy</td>\n",
       "    </tr>\n",
       "    <tr>\n",
       "      <th>bacarra,ilocos norte,municity,012802000</th>\n",
       "      <td>012802000</td>\n",
       "      <td>NaN</td>\n",
       "      <td>BACARRA</td>\n",
       "      <td>ILOCOS NORTE</td>\n",
       "      <td>REGION I ILOCOS REGION</td>\n",
       "      <td>bacarra,ilocos norte,municity</td>\n",
       "    </tr>\n",
       "  </tbody>\n",
       "</table>\n",
       "</div>"
      ],
      "text/plain": [
       "                                                 code         bgy municity  \\\n",
       "loc_tuple                                                                    \n",
       "ilocos norte,prov,012800000                 012800000         NaN      NaN   \n",
       "adams,ilocos norte,municity,012801000       012801000         NaN    ADAMS   \n",
       "adams pob,adams,ilocos norte,bgy,012801001  012801001  ADAMS POB.    ADAMS   \n",
       "adams,adams,ilocos norte,bgy,012801001      012801001  ADAMS POB.    ADAMS   \n",
       "bacarra,ilocos norte,municity,012802000     012802000         NaN  BACARRA   \n",
       "\n",
       "                                                    prov  \\\n",
       "loc_tuple                                                  \n",
       "ilocos norte,prov,012800000                 ILOCOS NORTE   \n",
       "adams,ilocos norte,municity,012801000       ILOCOS NORTE   \n",
       "adams pob,adams,ilocos norte,bgy,012801001  ILOCOS NORTE   \n",
       "adams,adams,ilocos norte,bgy,012801001      ILOCOS NORTE   \n",
       "bacarra,ilocos norte,municity,012802000     ILOCOS NORTE   \n",
       "\n",
       "                                                               reg  \\\n",
       "loc_tuple                                                            \n",
       "ilocos norte,prov,012800000                 REGION I ILOCOS REGION   \n",
       "adams,ilocos norte,municity,012801000       REGION I ILOCOS REGION   \n",
       "adams pob,adams,ilocos norte,bgy,012801001  REGION I ILOCOS REGION   \n",
       "adams,adams,ilocos norte,bgy,012801001      REGION I ILOCOS REGION   \n",
       "bacarra,ilocos norte,municity,012802000     REGION I ILOCOS REGION   \n",
       "\n",
       "                                                             candidate_terms  \n",
       "loc_tuple                                                                     \n",
       "ilocos norte,prov,012800000                                ilocos norte,prov  \n",
       "adams,ilocos norte,municity,012801000            adams,ilocos norte,municity  \n",
       "adams pob,adams,ilocos norte,bgy,012801001  adams pob,adams,ilocos norte,bgy  \n",
       "adams,adams,ilocos norte,bgy,012801001          adams,adams,ilocos norte,bgy  \n",
       "bacarra,ilocos norte,municity,012802000        bacarra,ilocos norte,municity  "
      ]
     },
     "execution_count": 129,
     "metadata": {},
     "output_type": "execute_result"
    }
   ],
   "source": [
    "psgc_locations = psgc_locations.set_index('loc_tuple')\n",
    "psgc_locations.head()"
   ]
  },
  {
   "cell_type": "code",
   "execution_count": 130,
   "metadata": {
    "ExecuteTime": {
     "end_time": "2018-09-27T10:57:10.408545",
     "start_time": "2018-09-27T10:57:10.399566"
    },
    "collapsed": false
   },
   "outputs": [],
   "source": [
    "#drop region column\n",
    "\n",
    "psgc_locations = psgc_locations.drop('reg',axis=1)"
   ]
  },
  {
   "cell_type": "code",
   "execution_count": 142,
   "metadata": {
    "ExecuteTime": {
     "end_time": "2018-09-27T11:00:45.127761",
     "start_time": "2018-09-27T11:00:43.106800"
    },
    "collapsed": false
   },
   "outputs": [],
   "source": [
    "psgc_locations.to_csv('psgc-locations.csv.gz',compression=\"gzip\")"
   ]
  },
  {
   "cell_type": "code",
   "execution_count": null,
   "metadata": {
    "collapsed": true
   },
   "outputs": [],
   "source": []
  }
 ],
 "metadata": {
  "kernelspec": {
   "display_name": "Python 2",
   "language": "python",
   "name": "python2"
  },
  "language_info": {
   "codemirror_mode": {
    "name": "ipython",
    "version": 2
   },
   "file_extension": ".py",
   "mimetype": "text/x-python",
   "name": "python",
   "nbconvert_exporter": "python",
   "pygments_lexer": "ipython2",
   "version": "2.7.13"
  },
  "toc": {
   "colors": {
    "hover_highlight": "#DAA520",
    "running_highlight": "#FF0000",
    "selected_highlight": "#FFD700"
   },
   "moveMenuLeft": true,
   "nav_menu": {
    "height": "264px",
    "width": "246px"
   },
   "navigate_menu": true,
   "number_sections": true,
   "sideBar": true,
   "threshold": 4,
   "toc_cell": false,
   "toc_section_display": "block",
   "toc_window_display": false
  }
 },
 "nbformat": 4,
 "nbformat_minor": 0
}
